{
 "cells": [
  {
   "cell_type": "markdown",
   "id": "varied-milwaukee",
   "metadata": {},
   "source": [
    "In this notebook we will work on creating ouput for our routes."
   ]
  },
  {
   "cell_type": "code",
   "execution_count": 1,
   "id": "american-retro",
   "metadata": {},
   "outputs": [],
   "source": [
    "import osmnx as ox\n",
    "import networkx as nx\n",
    "import numpy as np\n",
    "import pandas as pd\n",
    "import matplotlib.pyplot as plt\n",
    "import plotly.graph_objects as go\n",
    "%matplotlib inline"
   ]
  },
  {
   "cell_type": "code",
   "execution_count": 2,
   "id": "deadly-williams",
   "metadata": {},
   "outputs": [],
   "source": [
    "###OSHAWA/WHITBY \n",
    "north = 43.984503\n",
    "west = -78.821660\n",
    "south = 43.862879\n",
    "east = -78.954552"
   ]
  },
  {
   "cell_type": "code",
   "execution_count": 3,
   "id": "disciplinary-phoenix",
   "metadata": {},
   "outputs": [],
   "source": [
    "# Downloading the map as a graph object \n",
    "G = ox.graph_from_bbox(north, south, east, west, network_type = 'drive') \n",
    "# Plotting the map graph \n",
    "#ox.plot_graph(G, bgcolor='white', edge_color='blue', node_color='red')"
   ]
  },
  {
   "cell_type": "markdown",
   "id": "alpine-african",
   "metadata": {},
   "source": [
    "### Creating a Route"
   ]
  },
  {
   "cell_type": "code",
   "execution_count": 4,
   "id": "different-luther",
   "metadata": {},
   "outputs": [],
   "source": [
    "start_point = (43.902926, -78.949285)\n",
    "end_point = (43.944515, -78.895384)"
   ]
  },
  {
   "cell_type": "code",
   "execution_count": 5,
   "id": "demonstrated-winner",
   "metadata": {},
   "outputs": [],
   "source": [
    "# Get the nearest nodes to the locations \n",
    "start_node = ox.get_nearest_node(G, start_point) \n",
    "end_node = ox.get_nearest_node(G, end_point)"
   ]
  },
  {
   "cell_type": "code",
   "execution_count": 13,
   "id": "frank-structure",
   "metadata": {},
   "outputs": [
    {
     "data": {
      "text/plain": [
       "1077969015"
      ]
     },
     "execution_count": 13,
     "metadata": {},
     "output_type": "execute_result"
    }
   ],
   "source": [
    "start_node"
   ]
  },
  {
   "cell_type": "code",
   "execution_count": 19,
   "id": "rubber-veteran",
   "metadata": {},
   "outputs": [
    {
     "data": {
      "text/plain": [
       "2765873189"
      ]
     },
     "execution_count": 19,
     "metadata": {},
     "output_type": "execute_result"
    }
   ],
   "source": [
    "end_node"
   ]
  },
  {
   "cell_type": "code",
   "execution_count": 6,
   "id": "statutory-nigeria",
   "metadata": {},
   "outputs": [],
   "source": [
    "# Generate the optimal path\n",
    "route = nx.shortest_path(G, start_node, end_node, weight='length')"
   ]
  },
  {
   "cell_type": "code",
   "execution_count": 7,
   "id": "million-richardson",
   "metadata": {},
   "outputs": [
    {
     "data": {
      "image/png": "[encoded data removed]",
      "text/plain": [
       "<Figure size 576x576 with 1 Axes>"
      ]
     },
     "metadata": {},
     "output_type": "display_data"
    },
    {
     "data": {
      "text/plain": [
       "(<Figure size 576x576 with 1 Axes>, <AxesSubplot:>)"
      ]
     },
     "execution_count": 7,
     "metadata": {},
     "output_type": "execute_result"
    }
   ],
   "source": [
    "# Plot as a subgraph of the original graph\n",
    "route_graph = G.subgraph(route)\n",
    "ox.plot_graph(route_graph, bgcolor='white', edge_color='green', node_color='black')"
   ]
  },
  {
   "cell_type": "markdown",
   "id": "tropical-reward",
   "metadata": {},
   "source": [
    "### Getting Route Information"
   ]
  },
  {
   "cell_type": "markdown",
   "id": "historic-saver",
   "metadata": {},
   "source": [
    "Here we want to get the information for each leg of this route - the street names, road types, and segment lengths."
   ]
  },
  {
   "cell_type": "code",
   "execution_count": 47,
   "id": "interpreted-grill",
   "metadata": {},
   "outputs": [],
   "source": [
    "route_info = list()\n",
    "num_steps = len(route)\n",
    "i = 0\n",
    "j = 1\n",
    "# We want to get the information for every step in the route\n",
    "# We handle if any information is unlisted or unknown\n",
    "while j < num_steps:\n",
    "    step_info = list()\n",
    "    step_info.append(route[i])\n",
    "    try:\n",
    "        name = G[route[i]][route[j]][0]['name']\n",
    "        # Sometimes a street may change names within a segment - for example, switching\n",
    "        # from west to east.  In these cases we will just take the first name.\n",
    "        if type(name) == list:\n",
    "            name = name[0]\n",
    "    except KeyError:\n",
    "        name = 'Unnamed'\n",
    "    step_info.append(name)\n",
    "    try:\n",
    "        street_type = G[route[i]][route[j]][0]['highway']\n",
    "    except KeyError:\n",
    "        street_type = 'Unknown'\n",
    "    step_info.append(street_type)\n",
    "    try:\n",
    "        seg_len = G[route[i]][route[j]][0]['length']\n",
    "    except KeyError:\n",
    "        seg_len = 'Unknown'\n",
    "    step_info.append(seg_len)\n",
    "    \n",
    "    step_info.append(route[j])\n",
    "    \n",
    "    \n",
    "    route_info.append(step_info)\n",
    "    \n",
    "\n",
    "    \n",
    "    i +=1\n",
    "    j +=1"
   ]
  },
  {
   "cell_type": "code",
   "execution_count": 48,
   "id": "liberal-broadcast",
   "metadata": {},
   "outputs": [],
   "source": [
    "# Create a data frame of this information\n",
    "columns = ['Start Node', 'Street Name', 'Type', 'Length','End Node']\n",
    "route_info = pd.DataFrame(route_info, columns=columns)"
   ]
  },
  {
   "cell_type": "code",
   "execution_count": 49,
   "id": "civil-brass",
   "metadata": {},
   "outputs": [
    {
     "data": {
      "text/html": [
       "<div>\n",
       "<style scoped>\n",
       "    .dataframe tbody tr th:only-of-type {\n",
       "        vertical-align: middle;\n",
       "    }\n",
       "\n",
       "    .dataframe tbody tr th {\n",
       "        vertical-align: top;\n",
       "    }\n",
       "\n",
       "    .dataframe thead th {\n",
       "        text-align: right;\n",
       "    }\n",
       "</style>\n",
       "<table border=\"1\" class=\"dataframe\">\n",
       "  <thead>\n",
       "    <tr style=\"text-align: right;\">\n",
       "      <th></th>\n",
       "      <th>Start Node</th>\n",
       "      <th>Street Name</th>\n",
       "      <th>Type</th>\n",
       "      <th>Length</th>\n",
       "      <th>End Node</th>\n",
       "    </tr>\n",
       "  </thead>\n",
       "  <tbody>\n",
       "    <tr>\n",
       "      <th>0</th>\n",
       "      <td>1077969015</td>\n",
       "      <td>Vanier Street</td>\n",
       "      <td>residential</td>\n",
       "      <td>102.860</td>\n",
       "      <td>1050936067</td>\n",
       "    </tr>\n",
       "    <tr>\n",
       "      <th>1</th>\n",
       "      <td>1050936067</td>\n",
       "      <td>Dryden Boulevard</td>\n",
       "      <td>tertiary</td>\n",
       "      <td>75.001</td>\n",
       "      <td>1077968886</td>\n",
       "    </tr>\n",
       "    <tr>\n",
       "      <th>2</th>\n",
       "      <td>1077968886</td>\n",
       "      <td>Dryden Boulevard</td>\n",
       "      <td>tertiary</td>\n",
       "      <td>105.546</td>\n",
       "      <td>392178970</td>\n",
       "    </tr>\n",
       "    <tr>\n",
       "      <th>3</th>\n",
       "      <td>392178970</td>\n",
       "      <td>Dryden Boulevard</td>\n",
       "      <td>tertiary</td>\n",
       "      <td>415.333</td>\n",
       "      <td>394454438</td>\n",
       "    </tr>\n",
       "    <tr>\n",
       "      <th>4</th>\n",
       "      <td>394454438</td>\n",
       "      <td>Dryden Boulevard</td>\n",
       "      <td>tertiary</td>\n",
       "      <td>54.488</td>\n",
       "      <td>392167544</td>\n",
       "    </tr>\n",
       "    <tr>\n",
       "      <th>5</th>\n",
       "      <td>392167544</td>\n",
       "      <td>Dryden Boulevard</td>\n",
       "      <td>tertiary</td>\n",
       "      <td>98.928</td>\n",
       "      <td>392168518</td>\n",
       "    </tr>\n",
       "    <tr>\n",
       "      <th>6</th>\n",
       "      <td>392168518</td>\n",
       "      <td>Dryden Boulevard</td>\n",
       "      <td>tertiary</td>\n",
       "      <td>209.158</td>\n",
       "      <td>392180372</td>\n",
       "    </tr>\n",
       "    <tr>\n",
       "      <th>7</th>\n",
       "      <td>392180372</td>\n",
       "      <td>Dryden Boulevard</td>\n",
       "      <td>tertiary</td>\n",
       "      <td>162.799</td>\n",
       "      <td>392168202</td>\n",
       "    </tr>\n",
       "    <tr>\n",
       "      <th>8</th>\n",
       "      <td>392168202</td>\n",
       "      <td>Dryden Boulevard</td>\n",
       "      <td>tertiary</td>\n",
       "      <td>461.449</td>\n",
       "      <td>392172596</td>\n",
       "    </tr>\n",
       "    <tr>\n",
       "      <th>9</th>\n",
       "      <td>392172596</td>\n",
       "      <td>Anderson Street</td>\n",
       "      <td>tertiary</td>\n",
       "      <td>422.297</td>\n",
       "      <td>1050800983</td>\n",
       "    </tr>\n",
       "    <tr>\n",
       "      <th>10</th>\n",
       "      <td>1050800983</td>\n",
       "      <td>Darren Avenue</td>\n",
       "      <td>residential</td>\n",
       "      <td>216.811</td>\n",
       "      <td>1077621563</td>\n",
       "    </tr>\n",
       "    <tr>\n",
       "      <th>11</th>\n",
       "      <td>1077621563</td>\n",
       "      <td>Darren Avenue</td>\n",
       "      <td>residential</td>\n",
       "      <td>175.076</td>\n",
       "      <td>1077620906</td>\n",
       "    </tr>\n",
       "    <tr>\n",
       "      <th>12</th>\n",
       "      <td>1077620906</td>\n",
       "      <td>Darren Avenue</td>\n",
       "      <td>residential</td>\n",
       "      <td>212.582</td>\n",
       "      <td>1077620914</td>\n",
       "    </tr>\n",
       "    <tr>\n",
       "      <th>13</th>\n",
       "      <td>1077620914</td>\n",
       "      <td>Darren Avenue</td>\n",
       "      <td>residential</td>\n",
       "      <td>191.314</td>\n",
       "      <td>1077621029</td>\n",
       "    </tr>\n",
       "    <tr>\n",
       "      <th>14</th>\n",
       "      <td>1077621029</td>\n",
       "      <td>Darren Avenue</td>\n",
       "      <td>residential</td>\n",
       "      <td>172.030</td>\n",
       "      <td>1077621338</td>\n",
       "    </tr>\n",
       "    <tr>\n",
       "      <th>15</th>\n",
       "      <td>1077621338</td>\n",
       "      <td>Thickson Road</td>\n",
       "      <td>secondary</td>\n",
       "      <td>145.245</td>\n",
       "      <td>3877460870</td>\n",
       "    </tr>\n",
       "    <tr>\n",
       "      <th>16</th>\n",
       "      <td>3877460870</td>\n",
       "      <td>Thickson Road</td>\n",
       "      <td>secondary</td>\n",
       "      <td>98.485</td>\n",
       "      <td>1077631215</td>\n",
       "    </tr>\n",
       "    <tr>\n",
       "      <th>17</th>\n",
       "      <td>1077631215</td>\n",
       "      <td>Unnamed</td>\n",
       "      <td>secondary_link</td>\n",
       "      <td>46.540</td>\n",
       "      <td>1077631196</td>\n",
       "    </tr>\n",
       "    <tr>\n",
       "      <th>18</th>\n",
       "      <td>1077631196</td>\n",
       "      <td>Taunton Road East</td>\n",
       "      <td>secondary</td>\n",
       "      <td>80.863</td>\n",
       "      <td>1077631247</td>\n",
       "    </tr>\n",
       "    <tr>\n",
       "      <th>19</th>\n",
       "      <td>1077631247</td>\n",
       "      <td>Taunton Road East</td>\n",
       "      <td>secondary</td>\n",
       "      <td>128.654</td>\n",
       "      <td>1077631228</td>\n",
       "    </tr>\n",
       "    <tr>\n",
       "      <th>20</th>\n",
       "      <td>1077631228</td>\n",
       "      <td>Taunton Road East</td>\n",
       "      <td>secondary</td>\n",
       "      <td>50.288</td>\n",
       "      <td>1077631233</td>\n",
       "    </tr>\n",
       "    <tr>\n",
       "      <th>21</th>\n",
       "      <td>1077631233</td>\n",
       "      <td>Taunton Road East</td>\n",
       "      <td>secondary</td>\n",
       "      <td>266.205</td>\n",
       "      <td>392169423</td>\n",
       "    </tr>\n",
       "    <tr>\n",
       "      <th>22</th>\n",
       "      <td>392169423</td>\n",
       "      <td>Taunton Road East</td>\n",
       "      <td>secondary</td>\n",
       "      <td>239.539</td>\n",
       "      <td>4377213094</td>\n",
       "    </tr>\n",
       "    <tr>\n",
       "      <th>23</th>\n",
       "      <td>4377213094</td>\n",
       "      <td>Taunton Road East</td>\n",
       "      <td>secondary</td>\n",
       "      <td>16.288</td>\n",
       "      <td>4377206047</td>\n",
       "    </tr>\n",
       "    <tr>\n",
       "      <th>24</th>\n",
       "      <td>4377206047</td>\n",
       "      <td>Taunton Road East</td>\n",
       "      <td>secondary</td>\n",
       "      <td>7.951</td>\n",
       "      <td>4377213099</td>\n",
       "    </tr>\n",
       "    <tr>\n",
       "      <th>25</th>\n",
       "      <td>4377213099</td>\n",
       "      <td>Taunton Road East</td>\n",
       "      <td>secondary</td>\n",
       "      <td>202.581</td>\n",
       "      <td>4377213104</td>\n",
       "    </tr>\n",
       "    <tr>\n",
       "      <th>26</th>\n",
       "      <td>4377213104</td>\n",
       "      <td>Taunton Road East</td>\n",
       "      <td>secondary</td>\n",
       "      <td>67.126</td>\n",
       "      <td>4377213107</td>\n",
       "    </tr>\n",
       "    <tr>\n",
       "      <th>27</th>\n",
       "      <td>4377213107</td>\n",
       "      <td>Taunton Road East</td>\n",
       "      <td>secondary</td>\n",
       "      <td>65.243</td>\n",
       "      <td>392168625</td>\n",
       "    </tr>\n",
       "    <tr>\n",
       "      <th>28</th>\n",
       "      <td>392168625</td>\n",
       "      <td>Taunton Road West</td>\n",
       "      <td>secondary</td>\n",
       "      <td>437.440</td>\n",
       "      <td>3564553395</td>\n",
       "    </tr>\n",
       "    <tr>\n",
       "      <th>29</th>\n",
       "      <td>3564553395</td>\n",
       "      <td>Taunton Road West</td>\n",
       "      <td>secondary</td>\n",
       "      <td>51.350</td>\n",
       "      <td>3564553396</td>\n",
       "    </tr>\n",
       "    <tr>\n",
       "      <th>30</th>\n",
       "      <td>3564553396</td>\n",
       "      <td>Taunton Road West</td>\n",
       "      <td>secondary</td>\n",
       "      <td>7.651</td>\n",
       "      <td>4592786056</td>\n",
       "    </tr>\n",
       "    <tr>\n",
       "      <th>31</th>\n",
       "      <td>4592786056</td>\n",
       "      <td>Thornton Road North</td>\n",
       "      <td>secondary</td>\n",
       "      <td>9.856</td>\n",
       "      <td>4592786055</td>\n",
       "    </tr>\n",
       "    <tr>\n",
       "      <th>32</th>\n",
       "      <td>4592786055</td>\n",
       "      <td>Thornton Road North</td>\n",
       "      <td>tertiary</td>\n",
       "      <td>43.925</td>\n",
       "      <td>4592786053</td>\n",
       "    </tr>\n",
       "    <tr>\n",
       "      <th>33</th>\n",
       "      <td>4592786053</td>\n",
       "      <td>Thornton Road North</td>\n",
       "      <td>tertiary</td>\n",
       "      <td>1901.796</td>\n",
       "      <td>3250079794</td>\n",
       "    </tr>\n",
       "    <tr>\n",
       "      <th>34</th>\n",
       "      <td>3250079794</td>\n",
       "      <td>Unnamed</td>\n",
       "      <td>tertiary_link</td>\n",
       "      <td>64.925</td>\n",
       "      <td>3250079798</td>\n",
       "    </tr>\n",
       "    <tr>\n",
       "      <th>35</th>\n",
       "      <td>3250079798</td>\n",
       "      <td>Conlin Road West</td>\n",
       "      <td>tertiary</td>\n",
       "      <td>77.239</td>\n",
       "      <td>3077238808</td>\n",
       "    </tr>\n",
       "    <tr>\n",
       "      <th>36</th>\n",
       "      <td>3077238808</td>\n",
       "      <td>Conlin Road West</td>\n",
       "      <td>tertiary</td>\n",
       "      <td>587.724</td>\n",
       "      <td>8177214338</td>\n",
       "    </tr>\n",
       "    <tr>\n",
       "      <th>37</th>\n",
       "      <td>8177214338</td>\n",
       "      <td>Conlin Road West</td>\n",
       "      <td>tertiary</td>\n",
       "      <td>137.857</td>\n",
       "      <td>8177214336</td>\n",
       "    </tr>\n",
       "    <tr>\n",
       "      <th>38</th>\n",
       "      <td>8177214336</td>\n",
       "      <td>Conlin Road West</td>\n",
       "      <td>tertiary</td>\n",
       "      <td>531.695</td>\n",
       "      <td>8177214332</td>\n",
       "    </tr>\n",
       "    <tr>\n",
       "      <th>39</th>\n",
       "      <td>8177214332</td>\n",
       "      <td>Founders Drive</td>\n",
       "      <td>residential</td>\n",
       "      <td>107.779</td>\n",
       "      <td>1076440595</td>\n",
       "    </tr>\n",
       "    <tr>\n",
       "      <th>40</th>\n",
       "      <td>1076440595</td>\n",
       "      <td>Founders Drive</td>\n",
       "      <td>residential</td>\n",
       "      <td>105.909</td>\n",
       "      <td>1076440513</td>\n",
       "    </tr>\n",
       "    <tr>\n",
       "      <th>41</th>\n",
       "      <td>1076440513</td>\n",
       "      <td>Founders Drive</td>\n",
       "      <td>residential</td>\n",
       "      <td>205.561</td>\n",
       "      <td>1076440552</td>\n",
       "    </tr>\n",
       "    <tr>\n",
       "      <th>42</th>\n",
       "      <td>1076440552</td>\n",
       "      <td>Founders Drive</td>\n",
       "      <td>residential</td>\n",
       "      <td>270.524</td>\n",
       "      <td>2765873189</td>\n",
       "    </tr>\n",
       "  </tbody>\n",
       "</table>\n",
       "</div>"
      ],
      "text/plain": [
       "    Start Node          Street Name            Type    Length    End Node\n",
       "0   1077969015        Vanier Street     residential   102.860  1050936067\n",
       "1   1050936067     Dryden Boulevard        tertiary    75.001  1077968886\n",
       "2   1077968886     Dryden Boulevard        tertiary   105.546   392178970\n",
       "3    392178970     Dryden Boulevard        tertiary   415.333   394454438\n",
       "4    394454438     Dryden Boulevard        tertiary    54.488   392167544\n",
       "5    392167544     Dryden Boulevard        tertiary    98.928   392168518\n",
       "6    392168518     Dryden Boulevard        tertiary   209.158   392180372\n",
       "7    392180372     Dryden Boulevard        tertiary   162.799   392168202\n",
       "8    392168202     Dryden Boulevard        tertiary   461.449   392172596\n",
       "9    392172596      Anderson Street        tertiary   422.297  1050800983\n",
       "10  1050800983        Darren Avenue     residential   216.811  1077621563\n",
       "11  1077621563        Darren Avenue     residential   175.076  1077620906\n",
       "12  1077620906        Darren Avenue     residential   212.582  1077620914\n",
       "13  1077620914        Darren Avenue     residential   191.314  1077621029\n",
       "14  1077621029        Darren Avenue     residential   172.030  1077621338\n",
       "15  1077621338        Thickson Road       secondary   145.245  3877460870\n",
       "16  3877460870        Thickson Road       secondary    98.485  1077631215\n",
       "17  1077631215              Unnamed  secondary_link    46.540  1077631196\n",
       "18  1077631196    Taunton Road East       secondary    80.863  1077631247\n",
       "19  1077631247    Taunton Road East       secondary   128.654  1077631228\n",
       "20  1077631228    Taunton Road East       secondary    50.288  1077631233\n",
       "21  1077631233    Taunton Road East       secondary   266.205   392169423\n",
       "22   392169423    Taunton Road East       secondary   239.539  4377213094\n",
       "23  4377213094    Taunton Road East       secondary    16.288  4377206047\n",
       "24  4377206047    Taunton Road East       secondary     7.951  4377213099\n",
       "25  4377213099    Taunton Road East       secondary   202.581  4377213104\n",
       "26  4377213104    Taunton Road East       secondary    67.126  4377213107\n",
       "27  4377213107    Taunton Road East       secondary    65.243   392168625\n",
       "28   392168625    Taunton Road West       secondary   437.440  3564553395\n",
       "29  3564553395    Taunton Road West       secondary    51.350  3564553396\n",
       "30  3564553396    Taunton Road West       secondary     7.651  4592786056\n",
       "31  4592786056  Thornton Road North       secondary     9.856  4592786055\n",
       "32  4592786055  Thornton Road North        tertiary    43.925  4592786053\n",
       "33  4592786053  Thornton Road North        tertiary  1901.796  3250079794\n",
       "34  3250079794              Unnamed   tertiary_link    64.925  3250079798\n",
       "35  3250079798     Conlin Road West        tertiary    77.239  3077238808\n",
       "36  3077238808     Conlin Road West        tertiary   587.724  8177214338\n",
       "37  8177214338     Conlin Road West        tertiary   137.857  8177214336\n",
       "38  8177214336     Conlin Road West        tertiary   531.695  8177214332\n",
       "39  8177214332       Founders Drive     residential   107.779  1076440595\n",
       "40  1076440595       Founders Drive     residential   105.909  1076440513\n",
       "41  1076440513       Founders Drive     residential   205.561  1076440552\n",
       "42  1076440552       Founders Drive     residential   270.524  2765873189"
      ]
     },
     "execution_count": 49,
     "metadata": {},
     "output_type": "execute_result"
    }
   ],
   "source": [
    "route_info"
   ]
  },
  {
   "cell_type": "markdown",
   "id": "auburn-effort",
   "metadata": {},
   "source": [
    "#### Handling Unnamed Streets "
   ]
  },
  {
   "cell_type": "code",
   "execution_count": 50,
   "id": "right-yahoo",
   "metadata": {},
   "outputs": [],
   "source": [
    "# Get these rows\n",
    "unnamed_rows = route_info.index[route_info['Street Name'] == 'Unnamed'].tolist()"
   ]
  },
  {
   "cell_type": "code",
   "execution_count": 51,
   "id": "devoted-graduation",
   "metadata": {},
   "outputs": [
    {
     "name": "stderr",
     "output_type": "stream",
     "text": [
      "<ipython-input-51-34c0ed0bba0d>:3: SettingWithCopyWarning: \n",
      "A value is trying to be set on a copy of a slice from a DataFrame\n",
      "\n",
      "See the caveats in the documentation: https://pandas.pydata.org/pandas-docs/stable/user_guide/indexing.html#returning-a-view-versus-a-copy\n",
      "  route_info['Length'][row-1] += route_info['Length'][row]\n"
     ]
    }
   ],
   "source": [
    "# For these rows we will take the length of the segment and add it to the preceeding segment\n",
    "for row in unnamed_rows:\n",
    "    route_info['Length'][row-1] += route_info['Length'][row]"
   ]
  },
  {
   "cell_type": "code",
   "execution_count": 52,
   "id": "racial-stroke",
   "metadata": {},
   "outputs": [
    {
     "data": {
      "text/html": [
       "<div>\n",
       "<style scoped>\n",
       "    .dataframe tbody tr th:only-of-type {\n",
       "        vertical-align: middle;\n",
       "    }\n",
       "\n",
       "    .dataframe tbody tr th {\n",
       "        vertical-align: top;\n",
       "    }\n",
       "\n",
       "    .dataframe thead th {\n",
       "        text-align: right;\n",
       "    }\n",
       "</style>\n",
       "<table border=\"1\" class=\"dataframe\">\n",
       "  <thead>\n",
       "    <tr style=\"text-align: right;\">\n",
       "      <th></th>\n",
       "      <th>Start Node</th>\n",
       "      <th>Street Name</th>\n",
       "      <th>Type</th>\n",
       "      <th>Length</th>\n",
       "      <th>End Node</th>\n",
       "    </tr>\n",
       "  </thead>\n",
       "  <tbody>\n",
       "    <tr>\n",
       "      <th>0</th>\n",
       "      <td>1077969015</td>\n",
       "      <td>Vanier Street</td>\n",
       "      <td>residential</td>\n",
       "      <td>102.860</td>\n",
       "      <td>1050936067</td>\n",
       "    </tr>\n",
       "    <tr>\n",
       "      <th>1</th>\n",
       "      <td>1050936067</td>\n",
       "      <td>Dryden Boulevard</td>\n",
       "      <td>tertiary</td>\n",
       "      <td>75.001</td>\n",
       "      <td>1077968886</td>\n",
       "    </tr>\n",
       "    <tr>\n",
       "      <th>2</th>\n",
       "      <td>1077968886</td>\n",
       "      <td>Dryden Boulevard</td>\n",
       "      <td>tertiary</td>\n",
       "      <td>105.546</td>\n",
       "      <td>392178970</td>\n",
       "    </tr>\n",
       "    <tr>\n",
       "      <th>3</th>\n",
       "      <td>392178970</td>\n",
       "      <td>Dryden Boulevard</td>\n",
       "      <td>tertiary</td>\n",
       "      <td>415.333</td>\n",
       "      <td>394454438</td>\n",
       "    </tr>\n",
       "    <tr>\n",
       "      <th>4</th>\n",
       "      <td>394454438</td>\n",
       "      <td>Dryden Boulevard</td>\n",
       "      <td>tertiary</td>\n",
       "      <td>54.488</td>\n",
       "      <td>392167544</td>\n",
       "    </tr>\n",
       "    <tr>\n",
       "      <th>5</th>\n",
       "      <td>392167544</td>\n",
       "      <td>Dryden Boulevard</td>\n",
       "      <td>tertiary</td>\n",
       "      <td>98.928</td>\n",
       "      <td>392168518</td>\n",
       "    </tr>\n",
       "    <tr>\n",
       "      <th>6</th>\n",
       "      <td>392168518</td>\n",
       "      <td>Dryden Boulevard</td>\n",
       "      <td>tertiary</td>\n",
       "      <td>209.158</td>\n",
       "      <td>392180372</td>\n",
       "    </tr>\n",
       "    <tr>\n",
       "      <th>7</th>\n",
       "      <td>392180372</td>\n",
       "      <td>Dryden Boulevard</td>\n",
       "      <td>tertiary</td>\n",
       "      <td>162.799</td>\n",
       "      <td>392168202</td>\n",
       "    </tr>\n",
       "    <tr>\n",
       "      <th>8</th>\n",
       "      <td>392168202</td>\n",
       "      <td>Dryden Boulevard</td>\n",
       "      <td>tertiary</td>\n",
       "      <td>461.449</td>\n",
       "      <td>392172596</td>\n",
       "    </tr>\n",
       "    <tr>\n",
       "      <th>9</th>\n",
       "      <td>392172596</td>\n",
       "      <td>Anderson Street</td>\n",
       "      <td>tertiary</td>\n",
       "      <td>422.297</td>\n",
       "      <td>1050800983</td>\n",
       "    </tr>\n",
       "    <tr>\n",
       "      <th>10</th>\n",
       "      <td>1050800983</td>\n",
       "      <td>Darren Avenue</td>\n",
       "      <td>residential</td>\n",
       "      <td>216.811</td>\n",
       "      <td>1077621563</td>\n",
       "    </tr>\n",
       "    <tr>\n",
       "      <th>11</th>\n",
       "      <td>1077621563</td>\n",
       "      <td>Darren Avenue</td>\n",
       "      <td>residential</td>\n",
       "      <td>175.076</td>\n",
       "      <td>1077620906</td>\n",
       "    </tr>\n",
       "    <tr>\n",
       "      <th>12</th>\n",
       "      <td>1077620906</td>\n",
       "      <td>Darren Avenue</td>\n",
       "      <td>residential</td>\n",
       "      <td>212.582</td>\n",
       "      <td>1077620914</td>\n",
       "    </tr>\n",
       "    <tr>\n",
       "      <th>13</th>\n",
       "      <td>1077620914</td>\n",
       "      <td>Darren Avenue</td>\n",
       "      <td>residential</td>\n",
       "      <td>191.314</td>\n",
       "      <td>1077621029</td>\n",
       "    </tr>\n",
       "    <tr>\n",
       "      <th>14</th>\n",
       "      <td>1077621029</td>\n",
       "      <td>Darren Avenue</td>\n",
       "      <td>residential</td>\n",
       "      <td>172.030</td>\n",
       "      <td>1077621338</td>\n",
       "    </tr>\n",
       "    <tr>\n",
       "      <th>15</th>\n",
       "      <td>1077621338</td>\n",
       "      <td>Thickson Road</td>\n",
       "      <td>secondary</td>\n",
       "      <td>145.245</td>\n",
       "      <td>3877460870</td>\n",
       "    </tr>\n",
       "    <tr>\n",
       "      <th>16</th>\n",
       "      <td>3877460870</td>\n",
       "      <td>Thickson Road</td>\n",
       "      <td>secondary</td>\n",
       "      <td>145.025</td>\n",
       "      <td>1077631215</td>\n",
       "    </tr>\n",
       "    <tr>\n",
       "      <th>17</th>\n",
       "      <td>1077631196</td>\n",
       "      <td>Taunton Road East</td>\n",
       "      <td>secondary</td>\n",
       "      <td>80.863</td>\n",
       "      <td>1077631247</td>\n",
       "    </tr>\n",
       "    <tr>\n",
       "      <th>18</th>\n",
       "      <td>1077631247</td>\n",
       "      <td>Taunton Road East</td>\n",
       "      <td>secondary</td>\n",
       "      <td>128.654</td>\n",
       "      <td>1077631228</td>\n",
       "    </tr>\n",
       "    <tr>\n",
       "      <th>19</th>\n",
       "      <td>1077631228</td>\n",
       "      <td>Taunton Road East</td>\n",
       "      <td>secondary</td>\n",
       "      <td>50.288</td>\n",
       "      <td>1077631233</td>\n",
       "    </tr>\n",
       "    <tr>\n",
       "      <th>20</th>\n",
       "      <td>1077631233</td>\n",
       "      <td>Taunton Road East</td>\n",
       "      <td>secondary</td>\n",
       "      <td>266.205</td>\n",
       "      <td>392169423</td>\n",
       "    </tr>\n",
       "    <tr>\n",
       "      <th>21</th>\n",
       "      <td>392169423</td>\n",
       "      <td>Taunton Road East</td>\n",
       "      <td>secondary</td>\n",
       "      <td>239.539</td>\n",
       "      <td>4377213094</td>\n",
       "    </tr>\n",
       "    <tr>\n",
       "      <th>22</th>\n",
       "      <td>4377213094</td>\n",
       "      <td>Taunton Road East</td>\n",
       "      <td>secondary</td>\n",
       "      <td>16.288</td>\n",
       "      <td>4377206047</td>\n",
       "    </tr>\n",
       "    <tr>\n",
       "      <th>23</th>\n",
       "      <td>4377206047</td>\n",
       "      <td>Taunton Road East</td>\n",
       "      <td>secondary</td>\n",
       "      <td>7.951</td>\n",
       "      <td>4377213099</td>\n",
       "    </tr>\n",
       "    <tr>\n",
       "      <th>24</th>\n",
       "      <td>4377213099</td>\n",
       "      <td>Taunton Road East</td>\n",
       "      <td>secondary</td>\n",
       "      <td>202.581</td>\n",
       "      <td>4377213104</td>\n",
       "    </tr>\n",
       "    <tr>\n",
       "      <th>25</th>\n",
       "      <td>4377213104</td>\n",
       "      <td>Taunton Road East</td>\n",
       "      <td>secondary</td>\n",
       "      <td>67.126</td>\n",
       "      <td>4377213107</td>\n",
       "    </tr>\n",
       "    <tr>\n",
       "      <th>26</th>\n",
       "      <td>4377213107</td>\n",
       "      <td>Taunton Road East</td>\n",
       "      <td>secondary</td>\n",
       "      <td>65.243</td>\n",
       "      <td>392168625</td>\n",
       "    </tr>\n",
       "    <tr>\n",
       "      <th>27</th>\n",
       "      <td>392168625</td>\n",
       "      <td>Taunton Road West</td>\n",
       "      <td>secondary</td>\n",
       "      <td>437.440</td>\n",
       "      <td>3564553395</td>\n",
       "    </tr>\n",
       "    <tr>\n",
       "      <th>28</th>\n",
       "      <td>3564553395</td>\n",
       "      <td>Taunton Road West</td>\n",
       "      <td>secondary</td>\n",
       "      <td>51.350</td>\n",
       "      <td>3564553396</td>\n",
       "    </tr>\n",
       "    <tr>\n",
       "      <th>29</th>\n",
       "      <td>3564553396</td>\n",
       "      <td>Taunton Road West</td>\n",
       "      <td>secondary</td>\n",
       "      <td>7.651</td>\n",
       "      <td>4592786056</td>\n",
       "    </tr>\n",
       "    <tr>\n",
       "      <th>30</th>\n",
       "      <td>4592786056</td>\n",
       "      <td>Thornton Road North</td>\n",
       "      <td>secondary</td>\n",
       "      <td>9.856</td>\n",
       "      <td>4592786055</td>\n",
       "    </tr>\n",
       "    <tr>\n",
       "      <th>31</th>\n",
       "      <td>4592786055</td>\n",
       "      <td>Thornton Road North</td>\n",
       "      <td>tertiary</td>\n",
       "      <td>43.925</td>\n",
       "      <td>4592786053</td>\n",
       "    </tr>\n",
       "    <tr>\n",
       "      <th>32</th>\n",
       "      <td>4592786053</td>\n",
       "      <td>Thornton Road North</td>\n",
       "      <td>tertiary</td>\n",
       "      <td>1966.721</td>\n",
       "      <td>3250079794</td>\n",
       "    </tr>\n",
       "    <tr>\n",
       "      <th>33</th>\n",
       "      <td>3250079798</td>\n",
       "      <td>Conlin Road West</td>\n",
       "      <td>tertiary</td>\n",
       "      <td>77.239</td>\n",
       "      <td>3077238808</td>\n",
       "    </tr>\n",
       "    <tr>\n",
       "      <th>34</th>\n",
       "      <td>3077238808</td>\n",
       "      <td>Conlin Road West</td>\n",
       "      <td>tertiary</td>\n",
       "      <td>587.724</td>\n",
       "      <td>8177214338</td>\n",
       "    </tr>\n",
       "    <tr>\n",
       "      <th>35</th>\n",
       "      <td>8177214338</td>\n",
       "      <td>Conlin Road West</td>\n",
       "      <td>tertiary</td>\n",
       "      <td>137.857</td>\n",
       "      <td>8177214336</td>\n",
       "    </tr>\n",
       "    <tr>\n",
       "      <th>36</th>\n",
       "      <td>8177214336</td>\n",
       "      <td>Conlin Road West</td>\n",
       "      <td>tertiary</td>\n",
       "      <td>531.695</td>\n",
       "      <td>8177214332</td>\n",
       "    </tr>\n",
       "    <tr>\n",
       "      <th>37</th>\n",
       "      <td>8177214332</td>\n",
       "      <td>Founders Drive</td>\n",
       "      <td>residential</td>\n",
       "      <td>107.779</td>\n",
       "      <td>1076440595</td>\n",
       "    </tr>\n",
       "    <tr>\n",
       "      <th>38</th>\n",
       "      <td>1076440595</td>\n",
       "      <td>Founders Drive</td>\n",
       "      <td>residential</td>\n",
       "      <td>105.909</td>\n",
       "      <td>1076440513</td>\n",
       "    </tr>\n",
       "    <tr>\n",
       "      <th>39</th>\n",
       "      <td>1076440513</td>\n",
       "      <td>Founders Drive</td>\n",
       "      <td>residential</td>\n",
       "      <td>205.561</td>\n",
       "      <td>1076440552</td>\n",
       "    </tr>\n",
       "    <tr>\n",
       "      <th>40</th>\n",
       "      <td>1076440552</td>\n",
       "      <td>Founders Drive</td>\n",
       "      <td>residential</td>\n",
       "      <td>270.524</td>\n",
       "      <td>2765873189</td>\n",
       "    </tr>\n",
       "  </tbody>\n",
       "</table>\n",
       "</div>"
      ],
      "text/plain": [
       "    Start Node          Street Name         Type    Length    End Node\n",
       "0   1077969015        Vanier Street  residential   102.860  1050936067\n",
       "1   1050936067     Dryden Boulevard     tertiary    75.001  1077968886\n",
       "2   1077968886     Dryden Boulevard     tertiary   105.546   392178970\n",
       "3    392178970     Dryden Boulevard     tertiary   415.333   394454438\n",
       "4    394454438     Dryden Boulevard     tertiary    54.488   392167544\n",
       "5    392167544     Dryden Boulevard     tertiary    98.928   392168518\n",
       "6    392168518     Dryden Boulevard     tertiary   209.158   392180372\n",
       "7    392180372     Dryden Boulevard     tertiary   162.799   392168202\n",
       "8    392168202     Dryden Boulevard     tertiary   461.449   392172596\n",
       "9    392172596      Anderson Street     tertiary   422.297  1050800983\n",
       "10  1050800983        Darren Avenue  residential   216.811  1077621563\n",
       "11  1077621563        Darren Avenue  residential   175.076  1077620906\n",
       "12  1077620906        Darren Avenue  residential   212.582  1077620914\n",
       "13  1077620914        Darren Avenue  residential   191.314  1077621029\n",
       "14  1077621029        Darren Avenue  residential   172.030  1077621338\n",
       "15  1077621338        Thickson Road    secondary   145.245  3877460870\n",
       "16  3877460870        Thickson Road    secondary   145.025  1077631215\n",
       "17  1077631196    Taunton Road East    secondary    80.863  1077631247\n",
       "18  1077631247    Taunton Road East    secondary   128.654  1077631228\n",
       "19  1077631228    Taunton Road East    secondary    50.288  1077631233\n",
       "20  1077631233    Taunton Road East    secondary   266.205   392169423\n",
       "21   392169423    Taunton Road East    secondary   239.539  4377213094\n",
       "22  4377213094    Taunton Road East    secondary    16.288  4377206047\n",
       "23  4377206047    Taunton Road East    secondary     7.951  4377213099\n",
       "24  4377213099    Taunton Road East    secondary   202.581  4377213104\n",
       "25  4377213104    Taunton Road East    secondary    67.126  4377213107\n",
       "26  4377213107    Taunton Road East    secondary    65.243   392168625\n",
       "27   392168625    Taunton Road West    secondary   437.440  3564553395\n",
       "28  3564553395    Taunton Road West    secondary    51.350  3564553396\n",
       "29  3564553396    Taunton Road West    secondary     7.651  4592786056\n",
       "30  4592786056  Thornton Road North    secondary     9.856  4592786055\n",
       "31  4592786055  Thornton Road North     tertiary    43.925  4592786053\n",
       "32  4592786053  Thornton Road North     tertiary  1966.721  3250079794\n",
       "33  3250079798     Conlin Road West     tertiary    77.239  3077238808\n",
       "34  3077238808     Conlin Road West     tertiary   587.724  8177214338\n",
       "35  8177214338     Conlin Road West     tertiary   137.857  8177214336\n",
       "36  8177214336     Conlin Road West     tertiary   531.695  8177214332\n",
       "37  8177214332       Founders Drive  residential   107.779  1076440595\n",
       "38  1076440595       Founders Drive  residential   105.909  1076440513\n",
       "39  1076440513       Founders Drive  residential   205.561  1076440552\n",
       "40  1076440552       Founders Drive  residential   270.524  2765873189"
      ]
     },
     "execution_count": 52,
     "metadata": {},
     "output_type": "execute_result"
    }
   ],
   "source": [
    "# Now drop the unnamed rows\n",
    "route_info.drop(unnamed_rows, inplace=True)\n",
    "# Reset the index\n",
    "route_info.reset_index().drop('index', axis=1)"
   ]
  },
  {
   "cell_type": "markdown",
   "id": "approved-report",
   "metadata": {},
   "source": [
    "#### Combining Segments that are on the Same Street"
   ]
  },
  {
   "cell_type": "code",
   "execution_count": 61,
   "id": "narrative-fighter",
   "metadata": {},
   "outputs": [],
   "source": [
    "# Group by Street Name and sum all of the lengths for that street\n",
    "simplified_route = pd.DataFrame(route_info.groupby(['Street Name', 'Type'], sort=False)['Length'].aggregate(np.sum))\n",
    "# Reset the index\n",
    "simplified_route = simplified_route.reset_index(level=[0,1])"
   ]
  },
  {
   "cell_type": "code",
   "execution_count": 62,
   "id": "elect-syndication",
   "metadata": {},
   "outputs": [
    {
     "data": {
      "text/html": [
       "<div>\n",
       "<style scoped>\n",
       "    .dataframe tbody tr th:only-of-type {\n",
       "        vertical-align: middle;\n",
       "    }\n",
       "\n",
       "    .dataframe tbody tr th {\n",
       "        vertical-align: top;\n",
       "    }\n",
       "\n",
       "    .dataframe thead th {\n",
       "        text-align: right;\n",
       "    }\n",
       "</style>\n",
       "<table border=\"1\" class=\"dataframe\">\n",
       "  <thead>\n",
       "    <tr style=\"text-align: right;\">\n",
       "      <th></th>\n",
       "      <th>Street Name</th>\n",
       "      <th>Type</th>\n",
       "      <th>Length</th>\n",
       "    </tr>\n",
       "  </thead>\n",
       "  <tbody>\n",
       "    <tr>\n",
       "      <th>0</th>\n",
       "      <td>Vanier Street</td>\n",
       "      <td>residential</td>\n",
       "      <td>102.860</td>\n",
       "    </tr>\n",
       "    <tr>\n",
       "      <th>1</th>\n",
       "      <td>Dryden Boulevard</td>\n",
       "      <td>tertiary</td>\n",
       "      <td>1582.702</td>\n",
       "    </tr>\n",
       "    <tr>\n",
       "      <th>2</th>\n",
       "      <td>Anderson Street</td>\n",
       "      <td>tertiary</td>\n",
       "      <td>422.297</td>\n",
       "    </tr>\n",
       "    <tr>\n",
       "      <th>3</th>\n",
       "      <td>Darren Avenue</td>\n",
       "      <td>residential</td>\n",
       "      <td>967.813</td>\n",
       "    </tr>\n",
       "    <tr>\n",
       "      <th>4</th>\n",
       "      <td>Thickson Road</td>\n",
       "      <td>secondary</td>\n",
       "      <td>290.270</td>\n",
       "    </tr>\n",
       "    <tr>\n",
       "      <th>5</th>\n",
       "      <td>Taunton Road East</td>\n",
       "      <td>secondary</td>\n",
       "      <td>1124.738</td>\n",
       "    </tr>\n",
       "    <tr>\n",
       "      <th>6</th>\n",
       "      <td>Taunton Road West</td>\n",
       "      <td>secondary</td>\n",
       "      <td>496.441</td>\n",
       "    </tr>\n",
       "    <tr>\n",
       "      <th>7</th>\n",
       "      <td>Thornton Road North</td>\n",
       "      <td>secondary</td>\n",
       "      <td>9.856</td>\n",
       "    </tr>\n",
       "    <tr>\n",
       "      <th>8</th>\n",
       "      <td>Thornton Road North</td>\n",
       "      <td>tertiary</td>\n",
       "      <td>2010.646</td>\n",
       "    </tr>\n",
       "    <tr>\n",
       "      <th>9</th>\n",
       "      <td>Conlin Road West</td>\n",
       "      <td>tertiary</td>\n",
       "      <td>1334.515</td>\n",
       "    </tr>\n",
       "    <tr>\n",
       "      <th>10</th>\n",
       "      <td>Founders Drive</td>\n",
       "      <td>residential</td>\n",
       "      <td>689.773</td>\n",
       "    </tr>\n",
       "  </tbody>\n",
       "</table>\n",
       "</div>"
      ],
      "text/plain": [
       "            Street Name         Type    Length\n",
       "0         Vanier Street  residential   102.860\n",
       "1      Dryden Boulevard     tertiary  1582.702\n",
       "2       Anderson Street     tertiary   422.297\n",
       "3         Darren Avenue  residential   967.813\n",
       "4         Thickson Road    secondary   290.270\n",
       "5     Taunton Road East    secondary  1124.738\n",
       "6     Taunton Road West    secondary   496.441\n",
       "7   Thornton Road North    secondary     9.856\n",
       "8   Thornton Road North     tertiary  2010.646\n",
       "9      Conlin Road West     tertiary  1334.515\n",
       "10       Founders Drive  residential   689.773"
      ]
     },
     "execution_count": 62,
     "metadata": {},
     "output_type": "execute_result"
    }
   ],
   "source": [
    "simplified_route"
   ]
  },
  {
   "cell_type": "markdown",
   "id": "yellow-tradition",
   "metadata": {},
   "source": [
    "This is the output we want.  We have the total lengths now along each road in the route."
   ]
  },
  {
   "cell_type": "markdown",
   "id": "unnecessary-assurance",
   "metadata": {},
   "source": [
    "#### Adding Speeds"
   ]
  },
  {
   "cell_type": "markdown",
   "id": "dying-hollywood",
   "metadata": {},
   "source": [
    "We see the road types listed here.  First, we will find all possible road types."
   ]
  },
  {
   "cell_type": "code",
   "execution_count": 174,
   "id": "institutional-newark",
   "metadata": {},
   "outputs": [],
   "source": [
    "roads = []\n",
    "# Get the road type for each edge in the graph\n",
    "for g in G.edges:\n",
    "    roads.append(G.edges[g]['highway'])"
   ]
  },
  {
   "cell_type": "markdown",
   "id": "vital-village",
   "metadata": {},
   "source": [
    "We have a list of lists.  We want to convert it to a single list so that we can get the unique elements."
   ]
  },
  {
   "cell_type": "code",
   "execution_count": 175,
   "id": "inappropriate-brick",
   "metadata": {},
   "outputs": [],
   "source": [
    "roads_list = []\n",
    "for road in roads:\n",
    "    # As before, a road may change type if it changes speed limits for certain portions.\n",
    "    if type(road) == list:\n",
    "        roads_list.append(road[0])\n",
    "    else:\n",
    "        roads_list.append(road)\n",
    "# Get the unique road types\n",
    "roads_list = set(roads_list)"
   ]
  },
  {
   "cell_type": "code",
   "execution_count": 176,
   "id": "african-valentine",
   "metadata": {},
   "outputs": [
    {
     "data": {
      "text/plain": [
       "{'motorway',\n",
       " 'motorway_link',\n",
       " 'residential',\n",
       " 'secondary',\n",
       " 'secondary_link',\n",
       " 'tertiary',\n",
       " 'tertiary_link',\n",
       " 'unclassified'}"
      ]
     },
     "execution_count": 176,
     "metadata": {},
     "output_type": "execute_result"
    }
   ],
   "source": [
    "roads_list"
   ]
  },
  {
   "cell_type": "markdown",
   "id": "dedicated-wholesale",
   "metadata": {},
   "source": [
    "The types containing \"link\" are the ones for which we do not have names, and these are removed already.  For now we will generalize the speeds according to the following function."
   ]
  },
  {
   "cell_type": "code",
   "execution_count": 177,
   "id": "hollywood-plastic",
   "metadata": {},
   "outputs": [],
   "source": [
    "def road_speed(road_type):\n",
    "    if road_type == 'residential':\n",
    "        speed = 50 \n",
    "    elif road_type == 'tertiary':\n",
    "        speed = 60\n",
    "    elif road_type == 'secondary':\n",
    "        speed = 80\n",
    "    elif road_type == 'motorway':\n",
    "        speed = 100\n",
    "    else:\n",
    "        speed = 'Unknown'\n",
    "    return speed"
   ]
  },
  {
   "cell_type": "markdown",
   "id": "british-textbook",
   "metadata": {},
   "source": [
    "We now apply this function and create a new column on our data frame."
   ]
  },
  {
   "cell_type": "code",
   "execution_count": 178,
   "id": "southern-enlargement",
   "metadata": {},
   "outputs": [],
   "source": [
    "simplified_route['Speed'] = simplified_route['Type'].apply(lambda row: road_speed(row))"
   ]
  },
  {
   "cell_type": "code",
   "execution_count": 179,
   "id": "administrative-mills",
   "metadata": {},
   "outputs": [
    {
     "data": {
      "text/html": [
       "<div>\n",
       "<style scoped>\n",
       "    .dataframe tbody tr th:only-of-type {\n",
       "        vertical-align: middle;\n",
       "    }\n",
       "\n",
       "    .dataframe tbody tr th {\n",
       "        vertical-align: top;\n",
       "    }\n",
       "\n",
       "    .dataframe thead th {\n",
       "        text-align: right;\n",
       "    }\n",
       "</style>\n",
       "<table border=\"1\" class=\"dataframe\">\n",
       "  <thead>\n",
       "    <tr style=\"text-align: right;\">\n",
       "      <th></th>\n",
       "      <th>Street Name</th>\n",
       "      <th>Type</th>\n",
       "      <th>Length</th>\n",
       "      <th>Speed</th>\n",
       "    </tr>\n",
       "  </thead>\n",
       "  <tbody>\n",
       "    <tr>\n",
       "      <th>0</th>\n",
       "      <td>Vanier Street</td>\n",
       "      <td>residential</td>\n",
       "      <td>102.860</td>\n",
       "      <td>50</td>\n",
       "    </tr>\n",
       "    <tr>\n",
       "      <th>1</th>\n",
       "      <td>Dryden Boulevard</td>\n",
       "      <td>tertiary</td>\n",
       "      <td>1582.702</td>\n",
       "      <td>60</td>\n",
       "    </tr>\n",
       "    <tr>\n",
       "      <th>2</th>\n",
       "      <td>Anderson Street</td>\n",
       "      <td>tertiary</td>\n",
       "      <td>422.297</td>\n",
       "      <td>60</td>\n",
       "    </tr>\n",
       "    <tr>\n",
       "      <th>3</th>\n",
       "      <td>Darren Avenue</td>\n",
       "      <td>residential</td>\n",
       "      <td>967.813</td>\n",
       "      <td>50</td>\n",
       "    </tr>\n",
       "    <tr>\n",
       "      <th>4</th>\n",
       "      <td>Thickson Road</td>\n",
       "      <td>secondary</td>\n",
       "      <td>290.270</td>\n",
       "      <td>80</td>\n",
       "    </tr>\n",
       "    <tr>\n",
       "      <th>5</th>\n",
       "      <td>Taunton Road East</td>\n",
       "      <td>secondary</td>\n",
       "      <td>1562.178</td>\n",
       "      <td>80</td>\n",
       "    </tr>\n",
       "    <tr>\n",
       "      <th>6</th>\n",
       "      <td>Taunton Road West</td>\n",
       "      <td>secondary</td>\n",
       "      <td>59.001</td>\n",
       "      <td>80</td>\n",
       "    </tr>\n",
       "    <tr>\n",
       "      <th>7</th>\n",
       "      <td>Thornton Road North</td>\n",
       "      <td>secondary</td>\n",
       "      <td>9.856</td>\n",
       "      <td>80</td>\n",
       "    </tr>\n",
       "    <tr>\n",
       "      <th>8</th>\n",
       "      <td>Thornton Road North</td>\n",
       "      <td>tertiary</td>\n",
       "      <td>2010.646</td>\n",
       "      <td>60</td>\n",
       "    </tr>\n",
       "    <tr>\n",
       "      <th>9</th>\n",
       "      <td>Conlin Road West</td>\n",
       "      <td>tertiary</td>\n",
       "      <td>1334.515</td>\n",
       "      <td>60</td>\n",
       "    </tr>\n",
       "    <tr>\n",
       "      <th>10</th>\n",
       "      <td>Founders Drive</td>\n",
       "      <td>residential</td>\n",
       "      <td>689.773</td>\n",
       "      <td>50</td>\n",
       "    </tr>\n",
       "  </tbody>\n",
       "</table>\n",
       "</div>"
      ],
      "text/plain": [
       "            Street Name         Type    Length  Speed\n",
       "0         Vanier Street  residential   102.860     50\n",
       "1      Dryden Boulevard     tertiary  1582.702     60\n",
       "2       Anderson Street     tertiary   422.297     60\n",
       "3         Darren Avenue  residential   967.813     50\n",
       "4         Thickson Road    secondary   290.270     80\n",
       "5     Taunton Road East    secondary  1562.178     80\n",
       "6     Taunton Road West    secondary    59.001     80\n",
       "7   Thornton Road North    secondary     9.856     80\n",
       "8   Thornton Road North     tertiary  2010.646     60\n",
       "9      Conlin Road West     tertiary  1334.515     60\n",
       "10       Founders Drive  residential   689.773     50"
      ]
     },
     "execution_count": 179,
     "metadata": {},
     "output_type": "execute_result"
    }
   ],
   "source": [
    "simplified_route"
   ]
  },
  {
   "cell_type": "markdown",
   "id": "upset-opportunity",
   "metadata": {},
   "source": [
    "### Using Plotly to Visualize the Route"
   ]
  },
  {
   "cell_type": "markdown",
   "id": "bright-dictionary",
   "metadata": {},
   "source": [
    "For each graph node we can retrieve its longitude and latitude values."
   ]
  },
  {
   "cell_type": "code",
   "execution_count": 180,
   "id": "warming-presentation",
   "metadata": {},
   "outputs": [
    {
     "data": {
      "text/plain": [
       "{'y': 43.90302, 'x': -78.94934, 'street_count': 3}"
      ]
     },
     "execution_count": 180,
     "metadata": {},
     "output_type": "execute_result"
    }
   ],
   "source": [
    "G.nodes[start_node]"
   ]
  },
  {
   "cell_type": "markdown",
   "id": "settled-norfolk",
   "metadata": {},
   "source": [
    "For each node in the route, we will get these values to be used for plotting."
   ]
  },
  {
   "cell_type": "code",
   "execution_count": 181,
   "id": "south-dance",
   "metadata": {},
   "outputs": [],
   "source": [
    "# Get the coordinates of each of the nodes\n",
    "long = [] \n",
    "lat = []  \n",
    "for i in route:\n",
    "    point = G.nodes[i]\n",
    "    long.append(point['x'])\n",
    "    lat.append(point['y'])"
   ]
  },
  {
   "cell_type": "markdown",
   "id": "equal-yahoo",
   "metadata": {},
   "source": [
    "We now use Plotply to plot the route as an interactive map."
   ]
  },
  {
   "cell_type": "code",
   "execution_count": 188,
   "id": "medieval-finland",
   "metadata": {},
   "outputs": [],
   "source": [
    "def plot_path(lat, long, origin_point, destination_point):\n",
    "    # Adding the route path in blue\n",
    "    fig = go.Figure(go.Scattermapbox(\n",
    "        name = \"Route\",\n",
    "        mode = \"lines\",\n",
    "        lon = long,\n",
    "        lat = lat,\n",
    "        marker = {'size': 10},\n",
    "        line = dict(width = 4.5, color = 'blue')))\n",
    "    \n",
    "    # Adding the starting location in red\n",
    "    fig.add_trace(go.Scattermapbox(\n",
    "        name = \"Start\",\n",
    "        mode = \"markers\",\n",
    "        lon = [origin_point[1]],\n",
    "        lat = [origin_point[0]],\n",
    "        marker = {'size': 12, 'color':\"red\"}))\n",
    "     \n",
    "    # Adding the ending location in green\n",
    "    fig.add_trace(go.Scattermapbox(\n",
    "        name = \"End\",\n",
    "        mode = \"markers\",\n",
    "        lon = [destination_point[1]],\n",
    "        lat = [destination_point[0]],\n",
    "        marker = {'size': 12, 'color':'green'}))\n",
    "    \n",
    "    # Getting the centre of the plot \n",
    "    lat_center = np.mean(lat)\n",
    "    long_center = np.mean(long)\n",
    "    \n",
    "    # Defining the layout\n",
    "    fig.update_layout(mapbox_style=\"stamen-terrain\",\n",
    "        mapbox_center_lat = 30, mapbox_center_lon=-80)\n",
    "    fig.update_layout(margin={\"r\":0,\"t\":0,\"l\":0,\"b\":0},\n",
    "                      mapbox = {\n",
    "                          'center': {'lat': lat_center, \n",
    "                          'lon': long_center},\n",
    "                          'zoom': 12})\n",
    "    fig.show()"
   ]
  },
  {
   "cell_type": "code",
   "execution_count": 189,
   "id": "statutory-quantum",
   "metadata": {},
   "outputs": [
    {
     "data": {
      "application/vnd.plotly.v1+json": {
       "config": {
        "plotlyServerURL": "https://plot.ly"
       },
       "data": [
        {
         "lat": [
          43.90302,
          43.90391,
          43.90414,
          43.9044356,
          43.9057112,
          43.9059246,
          43.906386,
          43.9080293,
          43.9093174,
          43.91161,
          43.9152308,
          43.91612,
          43.91722,
          43.91775,
          43.91894,
          43.9194318,
          43.9206807,
          43.9215542,
          43.92189,
          43.92214,
          43.9225035,
          43.9226064,
          43.923342,
          43.9239676,
          43.9240111,
          43.9240328,
          43.9245833,
          43.9247986,
          43.924958,
          43.926162,
          43.9262651,
          43.9262839,
          43.9263722,
          43.9267508,
          43.9430467,
          43.9436155,
          43.9439194,
          43.9454576,
          43.9457458,
          43.9471678,
          43.94626,
          43.94618,
          43.94607,
          43.9437411
         ],
         "line": {
          "color": "blue",
          "width": 4.5
         },
         "lon": [
          -78.94934,
          -78.94969,
          -78.94881,
          -78.9475582,
          -78.9426978,
          -78.9421041,
          -78.9410528,
          -78.9398131,
          -78.9388471,
          -78.93448,
          -78.9360707,
          -78.93375,
          -78.93224,
          -78.92969,
          -78.92914,
          -78.9271041,
          -78.9276331,
          -78.927781,
          -78.92749,
          -78.92655,
          -78.925025,
          -78.9244246,
          -78.9212616,
          -78.9183999,
          -78.9182057,
          -78.9181111,
          -78.9156999,
          -78.9149332,
          -78.9141492,
          -78.9089493,
          -78.9083327,
          -78.9082408,
          -78.9082515,
          -78.9083716,
          -78.9155326,
          -78.9154965,
          -78.914629,
          -78.9076059,
          -78.9059392,
          -78.8995985,
          -78.8992,
          -78.89803,
          -78.89592,
          -78.8949944
         ],
         "marker": {
          "size": 10
         },
         "mode": "lines",
         "name": "Route",
         "type": "scattermapbox"
        },
        {
         "lat": [
          43.902926
         ],
         "lon": [
          -78.949285
         ],
         "marker": {
          "color": "red",
          "size": 12
         },
         "mode": "markers",
         "name": "Start",
         "type": "scattermapbox"
        },
        {
         "lat": [
          43.944515
         ],
         "lon": [
          -78.895384
         ],
         "marker": {
          "color": "green",
          "size": 12
         },
         "mode": "markers",
         "name": "End",
         "type": "scattermapbox"
        }
       ],
       "layout": {
        "mapbox": {
         "center": {
          "lat": 43.923892790909086,
          "lon": -78.92252600454545
         },
         "style": "stamen-terrain",
         "zoom": 12
        },
        "margin": {
         "b": 0,
         "l": 0,
         "r": 0,
         "t": 0
        },
        "template": {
         "data": {
          "bar": [
           {
            "error_x": {
             "color": "#2a3f5f"
            },
            "error_y": {
             "color": "#2a3f5f"
            },
            "marker": {
             "line": {
              "color": "#E5ECF6",
              "width": 0.5
             }
            },
            "type": "bar"
           }
          ],
          "barpolar": [
           {
            "marker": {
             "line": {
              "color": "#E5ECF6",
              "width": 0.5
             }
            },
            "type": "barpolar"
           }
          ],
          "carpet": [
           {
            "aaxis": {
             "endlinecolor": "#2a3f5f",
             "gridcolor": "white",
             "linecolor": "white",
             "minorgridcolor": "white",
             "startlinecolor": "#2a3f5f"
            },
            "baxis": {
             "endlinecolor": "#2a3f5f",
             "gridcolor": "white",
             "linecolor": "white",
             "minorgridcolor": "white",
             "startlinecolor": "#2a3f5f"
            },
            "type": "carpet"
           }
          ],
          "choropleth": [
           {
            "colorbar": {
             "outlinewidth": 0,
             "ticks": ""
            },
            "type": "choropleth"
           }
          ],
          "contour": [
           {
            "colorbar": {
             "outlinewidth": 0,
             "ticks": ""
            },
            "colorscale": [
             [
              0,
              "#0d0887"
             ],
             [
              0.1111111111111111,
              "#46039f"
             ],
             [
              0.2222222222222222,
              "#7201a8"
             ],
             [
              0.3333333333333333,
              "#9c179e"
             ],
             [
              0.4444444444444444,
              "#bd3786"
             ],
             [
              0.5555555555555556,
              "#d8576b"
             ],
             [
              0.6666666666666666,
              "#ed7953"
             ],
             [
              0.7777777777777778,
              "#fb9f3a"
             ],
             [
              0.8888888888888888,
              "#fdca26"
             ],
             [
              1,
              "#f0f921"
             ]
            ],
            "type": "contour"
           }
          ],
          "contourcarpet": [
           {
            "colorbar": {
             "outlinewidth": 0,
             "ticks": ""
            },
            "type": "contourcarpet"
           }
          ],
          "heatmap": [
           {
            "colorbar": {
             "outlinewidth": 0,
             "ticks": ""
            },
            "colorscale": [
             [
              0,
              "#0d0887"
             ],
             [
              0.1111111111111111,
              "#46039f"
             ],
             [
              0.2222222222222222,
              "#7201a8"
             ],
             [
              0.3333333333333333,
              "#9c179e"
             ],
             [
              0.4444444444444444,
              "#bd3786"
             ],
             [
              0.5555555555555556,
              "#d8576b"
             ],
             [
              0.6666666666666666,
              "#ed7953"
             ],
             [
              0.7777777777777778,
              "#fb9f3a"
             ],
             [
              0.8888888888888888,
              "#fdca26"
             ],
             [
              1,
              "#f0f921"
             ]
            ],
            "type": "heatmap"
           }
          ],
          "heatmapgl": [
           {
            "colorbar": {
             "outlinewidth": 0,
             "ticks": ""
            },
            "colorscale": [
             [
              0,
              "#0d0887"
             ],
             [
              0.1111111111111111,
              "#46039f"
             ],
             [
              0.2222222222222222,
              "#7201a8"
             ],
             [
              0.3333333333333333,
              "#9c179e"
             ],
             [
              0.4444444444444444,
              "#bd3786"
             ],
             [
              0.5555555555555556,
              "#d8576b"
             ],
             [
              0.6666666666666666,
              "#ed7953"
             ],
             [
              0.7777777777777778,
              "#fb9f3a"
             ],
             [
              0.8888888888888888,
              "#fdca26"
             ],
             [
              1,
              "#f0f921"
             ]
            ],
            "type": "heatmapgl"
           }
          ],
          "histogram": [
           {
            "marker": {
             "colorbar": {
              "outlinewidth": 0,
              "ticks": ""
             }
            },
            "type": "histogram"
           }
          ],
          "histogram2d": [
           {
            "colorbar": {
             "outlinewidth": 0,
             "ticks": ""
            },
            "colorscale": [
             [
              0,
              "#0d0887"
             ],
             [
              0.1111111111111111,
              "#46039f"
             ],
             [
              0.2222222222222222,
              "#7201a8"
             ],
             [
              0.3333333333333333,
              "#9c179e"
             ],
             [
              0.4444444444444444,
              "#bd3786"
             ],
             [
              0.5555555555555556,
              "#d8576b"
             ],
             [
              0.6666666666666666,
              "#ed7953"
             ],
             [
              0.7777777777777778,
              "#fb9f3a"
             ],
             [
              0.8888888888888888,
              "#fdca26"
             ],
             [
              1,
              "#f0f921"
             ]
            ],
            "type": "histogram2d"
           }
          ],
          "histogram2dcontour": [
           {
            "colorbar": {
             "outlinewidth": 0,
             "ticks": ""
            },
            "colorscale": [
             [
              0,
              "#0d0887"
             ],
             [
              0.1111111111111111,
              "#46039f"
             ],
             [
              0.2222222222222222,
              "#7201a8"
             ],
             [
              0.3333333333333333,
              "#9c179e"
             ],
             [
              0.4444444444444444,
              "#bd3786"
             ],
             [
              0.5555555555555556,
              "#d8576b"
             ],
             [
              0.6666666666666666,
              "#ed7953"
             ],
             [
              0.7777777777777778,
              "#fb9f3a"
             ],
             [
              0.8888888888888888,
              "#fdca26"
             ],
             [
              1,
              "#f0f921"
             ]
            ],
            "type": "histogram2dcontour"
           }
          ],
          "mesh3d": [
           {
            "colorbar": {
             "outlinewidth": 0,
             "ticks": ""
            },
            "type": "mesh3d"
           }
          ],
          "parcoords": [
           {
            "line": {
             "colorbar": {
              "outlinewidth": 0,
              "ticks": ""
             }
            },
            "type": "parcoords"
           }
          ],
          "pie": [
           {
            "automargin": true,
            "type": "pie"
           }
          ],
          "scatter": [
           {
            "marker": {
             "colorbar": {
              "outlinewidth": 0,
              "ticks": ""
             }
            },
            "type": "scatter"
           }
          ],
          "scatter3d": [
           {
            "line": {
             "colorbar": {
              "outlinewidth": 0,
              "ticks": ""
             }
            },
            "marker": {
             "colorbar": {
              "outlinewidth": 0,
              "ticks": ""
             }
            },
            "type": "scatter3d"
           }
          ],
          "scattercarpet": [
           {
            "marker": {
             "colorbar": {
              "outlinewidth": 0,
              "ticks": ""
             }
            },
            "type": "scattercarpet"
           }
          ],
          "scattergeo": [
           {
            "marker": {
             "colorbar": {
              "outlinewidth": 0,
              "ticks": ""
             }
            },
            "type": "scattergeo"
           }
          ],
          "scattergl": [
           {
            "marker": {
             "colorbar": {
              "outlinewidth": 0,
              "ticks": ""
             }
            },
            "type": "scattergl"
           }
          ],
          "scattermapbox": [
           {
            "marker": {
             "colorbar": {
              "outlinewidth": 0,
              "ticks": ""
             }
            },
            "type": "scattermapbox"
           }
          ],
          "scatterpolar": [
           {
            "marker": {
             "colorbar": {
              "outlinewidth": 0,
              "ticks": ""
             }
            },
            "type": "scatterpolar"
           }
          ],
          "scatterpolargl": [
           {
            "marker": {
             "colorbar": {
              "outlinewidth": 0,
              "ticks": ""
             }
            },
            "type": "scatterpolargl"
           }
          ],
          "scatterternary": [
           {
            "marker": {
             "colorbar": {
              "outlinewidth": 0,
              "ticks": ""
             }
            },
            "type": "scatterternary"
           }
          ],
          "surface": [
           {
            "colorbar": {
             "outlinewidth": 0,
             "ticks": ""
            },
            "colorscale": [
             [
              0,
              "#0d0887"
             ],
             [
              0.1111111111111111,
              "#46039f"
             ],
             [
              0.2222222222222222,
              "#7201a8"
             ],
             [
              0.3333333333333333,
              "#9c179e"
             ],
             [
              0.4444444444444444,
              "#bd3786"
             ],
             [
              0.5555555555555556,
              "#d8576b"
             ],
             [
              0.6666666666666666,
              "#ed7953"
             ],
             [
              0.7777777777777778,
              "#fb9f3a"
             ],
             [
              0.8888888888888888,
              "#fdca26"
             ],
             [
              1,
              "#f0f921"
             ]
            ],
            "type": "surface"
           }
          ],
          "table": [
           {
            "cells": {
             "fill": {
              "color": "#EBF0F8"
             },
             "line": {
              "color": "white"
             }
            },
            "header": {
             "fill": {
              "color": "#C8D4E3"
             },
             "line": {
              "color": "white"
             }
            },
            "type": "table"
           }
          ]
         },
         "layout": {
          "annotationdefaults": {
           "arrowcolor": "#2a3f5f",
           "arrowhead": 0,
           "arrowwidth": 1
          },
          "autotypenumbers": "strict",
          "coloraxis": {
           "colorbar": {
            "outlinewidth": 0,
            "ticks": ""
           }
          },
          "colorscale": {
           "diverging": [
            [
             0,
             "#8e0152"
            ],
            [
             0.1,
             "#c51b7d"
            ],
            [
             0.2,
             "#de77ae"
            ],
            [
             0.3,
             "#f1b6da"
            ],
            [
             0.4,
             "#fde0ef"
            ],
            [
             0.5,
             "#f7f7f7"
            ],
            [
             0.6,
             "#e6f5d0"
            ],
            [
             0.7,
             "#b8e186"
            ],
            [
             0.8,
             "#7fbc41"
            ],
            [
             0.9,
             "#4d9221"
            ],
            [
             1,
             "#276419"
            ]
           ],
           "sequential": [
            [
             0,
             "#0d0887"
            ],
            [
             0.1111111111111111,
             "#46039f"
            ],
            [
             0.2222222222222222,
             "#7201a8"
            ],
            [
             0.3333333333333333,
             "#9c179e"
            ],
            [
             0.4444444444444444,
             "#bd3786"
            ],
            [
             0.5555555555555556,
             "#d8576b"
            ],
            [
             0.6666666666666666,
             "#ed7953"
            ],
            [
             0.7777777777777778,
             "#fb9f3a"
            ],
            [
             0.8888888888888888,
             "#fdca26"
            ],
            [
             1,
             "#f0f921"
            ]
           ],
           "sequentialminus": [
            [
             0,
             "#0d0887"
            ],
            [
             0.1111111111111111,
             "#46039f"
            ],
            [
             0.2222222222222222,
             "#7201a8"
            ],
            [
             0.3333333333333333,
             "#9c179e"
            ],
            [
             0.4444444444444444,
             "#bd3786"
            ],
            [
             0.5555555555555556,
             "#d8576b"
            ],
            [
             0.6666666666666666,
             "#ed7953"
            ],
            [
             0.7777777777777778,
             "#fb9f3a"
            ],
            [
             0.8888888888888888,
             "#fdca26"
            ],
            [
             1,
             "#f0f921"
            ]
           ]
          },
          "colorway": [
           "#636efa",
           "#EF553B",
           "#00cc96",
           "#ab63fa",
           "#FFA15A",
           "#19d3f3",
           "#FF6692",
           "#B6E880",
           "#FF97FF",
           "#FECB52"
          ],
          "font": {
           "color": "#2a3f5f"
          },
          "geo": {
           "bgcolor": "white",
           "lakecolor": "white",
           "landcolor": "#E5ECF6",
           "showlakes": true,
           "showland": true,
           "subunitcolor": "white"
          },
          "hoverlabel": {
           "align": "left"
          },
          "hovermode": "closest",
          "mapbox": {
           "style": "light"
          },
          "paper_bgcolor": "white",
          "plot_bgcolor": "#E5ECF6",
          "polar": {
           "angularaxis": {
            "gridcolor": "white",
            "linecolor": "white",
            "ticks": ""
           },
           "bgcolor": "#E5ECF6",
           "radialaxis": {
            "gridcolor": "white",
            "linecolor": "white",
            "ticks": ""
           }
          },
          "scene": {
           "xaxis": {
            "backgroundcolor": "#E5ECF6",
            "gridcolor": "white",
            "gridwidth": 2,
            "linecolor": "white",
            "showbackground": true,
            "ticks": "",
            "zerolinecolor": "white"
           },
           "yaxis": {
            "backgroundcolor": "#E5ECF6",
            "gridcolor": "white",
            "gridwidth": 2,
            "linecolor": "white",
            "showbackground": true,
            "ticks": "",
            "zerolinecolor": "white"
           },
           "zaxis": {
            "backgroundcolor": "#E5ECF6",
            "gridcolor": "white",
            "gridwidth": 2,
            "linecolor": "white",
            "showbackground": true,
            "ticks": "",
            "zerolinecolor": "white"
           }
          },
          "shapedefaults": {
           "line": {
            "color": "#2a3f5f"
           }
          },
          "ternary": {
           "aaxis": {
            "gridcolor": "white",
            "linecolor": "white",
            "ticks": ""
           },
           "baxis": {
            "gridcolor": "white",
            "linecolor": "white",
            "ticks": ""
           },
           "bgcolor": "#E5ECF6",
           "caxis": {
            "gridcolor": "white",
            "linecolor": "white",
            "ticks": ""
           }
          },
          "title": {
           "x": 0.05
          },
          "xaxis": {
           "automargin": true,
           "gridcolor": "white",
           "linecolor": "white",
           "ticks": "",
           "title": {
            "standoff": 15
           },
           "zerolinecolor": "white",
           "zerolinewidth": 2
          },
          "yaxis": {
           "automargin": true,
           "gridcolor": "white",
           "linecolor": "white",
           "ticks": "",
           "title": {
            "standoff": 15
           },
           "zerolinecolor": "white",
           "zerolinewidth": 2
          }
         }
        }
       }
      },
      "text/html": [
       "<div>                            <div id=\"eb9bc401-34ba-4cb4-8e2d-7dddc5996fd5\" class=\"plotly-graph-div\" style=\"height:525px; width:100%;\"></div>            <script type=\"text/javascript\">                require([\"plotly\"], function(Plotly) {                    window.PLOTLYENV=window.PLOTLYENV || {};                                    if (document.getElementById(\"eb9bc401-34ba-4cb4-8e2d-7dddc5996fd5\")) {                    Plotly.newPlot(                        \"eb9bc401-34ba-4cb4-8e2d-7dddc5996fd5\",                        [{\"lat\": [43.90302, 43.90391, 43.90414, 43.9044356, 43.9057112, 43.9059246, 43.906386, 43.9080293, 43.9093174, 43.91161, 43.9152308, 43.91612, 43.91722, 43.91775, 43.91894, 43.9194318, 43.9206807, 43.9215542, 43.92189, 43.92214, 43.9225035, 43.9226064, 43.923342, 43.9239676, 43.9240111, 43.9240328, 43.9245833, 43.9247986, 43.924958, 43.926162, 43.9262651, 43.9262839, 43.9263722, 43.9267508, 43.9430467, 43.9436155, 43.9439194, 43.9454576, 43.9457458, 43.9471678, 43.94626, 43.94618, 43.94607, 43.9437411], \"line\": {\"color\": \"blue\", \"width\": 4.5}, \"lon\": [-78.94934, -78.94969, -78.94881, -78.9475582, -78.9426978, -78.9421041, -78.9410528, -78.9398131, -78.9388471, -78.93448, -78.9360707, -78.93375, -78.93224, -78.92969, -78.92914, -78.9271041, -78.9276331, -78.927781, -78.92749, -78.92655, -78.925025, -78.9244246, -78.9212616, -78.9183999, -78.9182057, -78.9181111, -78.9156999, -78.9149332, -78.9141492, -78.9089493, -78.9083327, -78.9082408, -78.9082515, -78.9083716, -78.9155326, -78.9154965, -78.914629, -78.9076059, -78.9059392, -78.8995985, -78.8992, -78.89803, -78.89592, -78.8949944], \"marker\": {\"size\": 10}, \"mode\": \"lines\", \"name\": \"Route\", \"type\": \"scattermapbox\"}, {\"lat\": [43.902926], \"lon\": [-78.949285], \"marker\": {\"color\": \"red\", \"size\": 12}, \"mode\": \"markers\", \"name\": \"Start\", \"type\": \"scattermapbox\"}, {\"lat\": [43.944515], \"lon\": [-78.895384], \"marker\": {\"color\": \"green\", \"size\": 12}, \"mode\": \"markers\", \"name\": \"End\", \"type\": \"scattermapbox\"}],                        {\"mapbox\": {\"center\": {\"lat\": 43.923892790909086, \"lon\": -78.92252600454545}, \"style\": \"stamen-terrain\", \"zoom\": 12}, \"margin\": {\"b\": 0, \"l\": 0, \"r\": 0, \"t\": 0}, \"template\": {\"data\": {\"bar\": [{\"error_x\": {\"color\": \"#2a3f5f\"}, \"error_y\": {\"color\": \"#2a3f5f\"}, \"marker\": {\"line\": {\"color\": \"#E5ECF6\", \"width\": 0.5}}, \"type\": \"bar\"}], \"barpolar\": [{\"marker\": {\"line\": {\"color\": \"#E5ECF6\", \"width\": 0.5}}, \"type\": \"barpolar\"}], \"carpet\": [{\"aaxis\": {\"endlinecolor\": \"#2a3f5f\", \"gridcolor\": \"white\", \"linecolor\": \"white\", \"minorgridcolor\": \"white\", \"startlinecolor\": \"#2a3f5f\"}, \"baxis\": {\"endlinecolor\": \"#2a3f5f\", \"gridcolor\": \"white\", \"linecolor\": \"white\", \"minorgridcolor\": \"white\", \"startlinecolor\": \"#2a3f5f\"}, \"type\": \"carpet\"}], \"choropleth\": [{\"colorbar\": {\"outlinewidth\": 0, \"ticks\": \"\"}, \"type\": \"choropleth\"}], \"contour\": [{\"colorbar\": {\"outlinewidth\": 0, \"ticks\": \"\"}, \"colorscale\": [[0.0, \"#0d0887\"], [0.1111111111111111, \"#46039f\"], [0.2222222222222222, \"#7201a8\"], [0.3333333333333333, \"#9c179e\"], [0.4444444444444444, \"#bd3786\"], [0.5555555555555556, \"#d8576b\"], [0.6666666666666666, \"#ed7953\"], [0.7777777777777778, \"#fb9f3a\"], [0.8888888888888888, \"#fdca26\"], [1.0, \"#f0f921\"]], \"type\": \"contour\"}], \"contourcarpet\": [{\"colorbar\": {\"outlinewidth\": 0, \"ticks\": \"\"}, \"type\": \"contourcarpet\"}], \"heatmap\": [{\"colorbar\": {\"outlinewidth\": 0, \"ticks\": \"\"}, \"colorscale\": [[0.0, \"#0d0887\"], [0.1111111111111111, \"#46039f\"], [0.2222222222222222, \"#7201a8\"], [0.3333333333333333, \"#9c179e\"], [0.4444444444444444, \"#bd3786\"], [0.5555555555555556, \"#d8576b\"], [0.6666666666666666, \"#ed7953\"], [0.7777777777777778, \"#fb9f3a\"], [0.8888888888888888, \"#fdca26\"], [1.0, \"#f0f921\"]], \"type\": \"heatmap\"}], \"heatmapgl\": [{\"colorbar\": {\"outlinewidth\": 0, \"ticks\": \"\"}, \"colorscale\": [[0.0, \"#0d0887\"], [0.1111111111111111, \"#46039f\"], [0.2222222222222222, \"#7201a8\"], [0.3333333333333333, \"#9c179e\"], [0.4444444444444444, \"#bd3786\"], [0.5555555555555556, \"#d8576b\"], [0.6666666666666666, \"#ed7953\"], [0.7777777777777778, \"#fb9f3a\"], [0.8888888888888888, \"#fdca26\"], [1.0, \"#f0f921\"]], \"type\": \"heatmapgl\"}], \"histogram\": [{\"marker\": {\"colorbar\": {\"outlinewidth\": 0, \"ticks\": \"\"}}, \"type\": \"histogram\"}], \"histogram2d\": [{\"colorbar\": {\"outlinewidth\": 0, \"ticks\": \"\"}, \"colorscale\": [[0.0, \"#0d0887\"], [0.1111111111111111, \"#46039f\"], [0.2222222222222222, \"#7201a8\"], [0.3333333333333333, \"#9c179e\"], [0.4444444444444444, \"#bd3786\"], [0.5555555555555556, \"#d8576b\"], [0.6666666666666666, \"#ed7953\"], [0.7777777777777778, \"#fb9f3a\"], [0.8888888888888888, \"#fdca26\"], [1.0, \"#f0f921\"]], \"type\": \"histogram2d\"}], \"histogram2dcontour\": [{\"colorbar\": {\"outlinewidth\": 0, \"ticks\": \"\"}, \"colorscale\": [[0.0, \"#0d0887\"], [0.1111111111111111, \"#46039f\"], [0.2222222222222222, \"#7201a8\"], [0.3333333333333333, \"#9c179e\"], [0.4444444444444444, \"#bd3786\"], [0.5555555555555556, \"#d8576b\"], [0.6666666666666666, \"#ed7953\"], [0.7777777777777778, \"#fb9f3a\"], [0.8888888888888888, \"#fdca26\"], [1.0, \"#f0f921\"]], \"type\": \"histogram2dcontour\"}], \"mesh3d\": [{\"colorbar\": {\"outlinewidth\": 0, \"ticks\": \"\"}, \"type\": \"mesh3d\"}], \"parcoords\": [{\"line\": {\"colorbar\": {\"outlinewidth\": 0, \"ticks\": \"\"}}, \"type\": \"parcoords\"}], \"pie\": [{\"automargin\": true, \"type\": \"pie\"}], \"scatter\": [{\"marker\": {\"colorbar\": {\"outlinewidth\": 0, \"ticks\": \"\"}}, \"type\": \"scatter\"}], \"scatter3d\": [{\"line\": {\"colorbar\": {\"outlinewidth\": 0, \"ticks\": \"\"}}, \"marker\": {\"colorbar\": {\"outlinewidth\": 0, \"ticks\": \"\"}}, \"type\": \"scatter3d\"}], \"scattercarpet\": [{\"marker\": {\"colorbar\": {\"outlinewidth\": 0, \"ticks\": \"\"}}, \"type\": \"scattercarpet\"}], \"scattergeo\": [{\"marker\": {\"colorbar\": {\"outlinewidth\": 0, \"ticks\": \"\"}}, \"type\": \"scattergeo\"}], \"scattergl\": [{\"marker\": {\"colorbar\": {\"outlinewidth\": 0, \"ticks\": \"\"}}, \"type\": \"scattergl\"}], \"scattermapbox\": [{\"marker\": {\"colorbar\": {\"outlinewidth\": 0, \"ticks\": \"\"}}, \"type\": \"scattermapbox\"}], \"scatterpolar\": [{\"marker\": {\"colorbar\": {\"outlinewidth\": 0, \"ticks\": \"\"}}, \"type\": \"scatterpolar\"}], \"scatterpolargl\": [{\"marker\": {\"colorbar\": {\"outlinewidth\": 0, \"ticks\": \"\"}}, \"type\": \"scatterpolargl\"}], \"scatterternary\": [{\"marker\": {\"colorbar\": {\"outlinewidth\": 0, \"ticks\": \"\"}}, \"type\": \"scatterternary\"}], \"surface\": [{\"colorbar\": {\"outlinewidth\": 0, \"ticks\": \"\"}, \"colorscale\": [[0.0, \"#0d0887\"], [0.1111111111111111, \"#46039f\"], [0.2222222222222222, \"#7201a8\"], [0.3333333333333333, \"#9c179e\"], [0.4444444444444444, \"#bd3786\"], [0.5555555555555556, \"#d8576b\"], [0.6666666666666666, \"#ed7953\"], [0.7777777777777778, \"#fb9f3a\"], [0.8888888888888888, \"#fdca26\"], [1.0, \"#f0f921\"]], \"type\": \"surface\"}], \"table\": [{\"cells\": {\"fill\": {\"color\": \"#EBF0F8\"}, \"line\": {\"color\": \"white\"}}, \"header\": {\"fill\": {\"color\": \"#C8D4E3\"}, \"line\": {\"color\": \"white\"}}, \"type\": \"table\"}]}, \"layout\": {\"annotationdefaults\": {\"arrowcolor\": \"#2a3f5f\", \"arrowhead\": 0, \"arrowwidth\": 1}, \"autotypenumbers\": \"strict\", \"coloraxis\": {\"colorbar\": {\"outlinewidth\": 0, \"ticks\": \"\"}}, \"colorscale\": {\"diverging\": [[0, \"#8e0152\"], [0.1, \"#c51b7d\"], [0.2, \"#de77ae\"], [0.3, \"#f1b6da\"], [0.4, \"#fde0ef\"], [0.5, \"#f7f7f7\"], [0.6, \"#e6f5d0\"], [0.7, \"#b8e186\"], [0.8, \"#7fbc41\"], [0.9, \"#4d9221\"], [1, \"#276419\"]], \"sequential\": [[0.0, \"#0d0887\"], [0.1111111111111111, \"#46039f\"], [0.2222222222222222, \"#7201a8\"], [0.3333333333333333, \"#9c179e\"], [0.4444444444444444, \"#bd3786\"], [0.5555555555555556, \"#d8576b\"], [0.6666666666666666, \"#ed7953\"], [0.7777777777777778, \"#fb9f3a\"], [0.8888888888888888, \"#fdca26\"], [1.0, \"#f0f921\"]], \"sequentialminus\": [[0.0, \"#0d0887\"], [0.1111111111111111, \"#46039f\"], [0.2222222222222222, \"#7201a8\"], [0.3333333333333333, \"#9c179e\"], [0.4444444444444444, \"#bd3786\"], [0.5555555555555556, \"#d8576b\"], [0.6666666666666666, \"#ed7953\"], [0.7777777777777778, \"#fb9f3a\"], [0.8888888888888888, \"#fdca26\"], [1.0, \"#f0f921\"]]}, \"colorway\": [\"#636efa\", \"#EF553B\", \"#00cc96\", \"#ab63fa\", \"#FFA15A\", \"#19d3f3\", \"#FF6692\", \"#B6E880\", \"#FF97FF\", \"#FECB52\"], \"font\": {\"color\": \"#2a3f5f\"}, \"geo\": {\"bgcolor\": \"white\", \"lakecolor\": \"white\", \"landcolor\": \"#E5ECF6\", \"showlakes\": true, \"showland\": true, \"subunitcolor\": \"white\"}, \"hoverlabel\": {\"align\": \"left\"}, \"hovermode\": \"closest\", \"mapbox\": {\"style\": \"light\"}, \"paper_bgcolor\": \"white\", \"plot_bgcolor\": \"#E5ECF6\", \"polar\": {\"angularaxis\": {\"gridcolor\": \"white\", \"linecolor\": \"white\", \"ticks\": \"\"}, \"bgcolor\": \"#E5ECF6\", \"radialaxis\": {\"gridcolor\": \"white\", \"linecolor\": \"white\", \"ticks\": \"\"}}, \"scene\": {\"xaxis\": {\"backgroundcolor\": \"#E5ECF6\", \"gridcolor\": \"white\", \"gridwidth\": 2, \"linecolor\": \"white\", \"showbackground\": true, \"ticks\": \"\", \"zerolinecolor\": \"white\"}, \"yaxis\": {\"backgroundcolor\": \"#E5ECF6\", \"gridcolor\": \"white\", \"gridwidth\": 2, \"linecolor\": \"white\", \"showbackground\": true, \"ticks\": \"\", \"zerolinecolor\": \"white\"}, \"zaxis\": {\"backgroundcolor\": \"#E5ECF6\", \"gridcolor\": \"white\", \"gridwidth\": 2, \"linecolor\": \"white\", \"showbackground\": true, \"ticks\": \"\", \"zerolinecolor\": \"white\"}}, \"shapedefaults\": {\"line\": {\"color\": \"#2a3f5f\"}}, \"ternary\": {\"aaxis\": {\"gridcolor\": \"white\", \"linecolor\": \"white\", \"ticks\": \"\"}, \"baxis\": {\"gridcolor\": \"white\", \"linecolor\": \"white\", \"ticks\": \"\"}, \"bgcolor\": \"#E5ECF6\", \"caxis\": {\"gridcolor\": \"white\", \"linecolor\": \"white\", \"ticks\": \"\"}}, \"title\": {\"x\": 0.05}, \"xaxis\": {\"automargin\": true, \"gridcolor\": \"white\", \"linecolor\": \"white\", \"ticks\": \"\", \"title\": {\"standoff\": 15}, \"zerolinecolor\": \"white\", \"zerolinewidth\": 2}, \"yaxis\": {\"automargin\": true, \"gridcolor\": \"white\", \"linecolor\": \"white\", \"ticks\": \"\", \"title\": {\"standoff\": 15}, \"zerolinecolor\": \"white\", \"zerolinewidth\": 2}}}},                        {\"responsive\": true}                    ).then(function(){\n",
       "                            \n",
       "var gd = document.getElementById('eb9bc401-34ba-4cb4-8e2d-7dddc5996fd5');\n",
       "var x = new MutationObserver(function (mutations, observer) {{\n",
       "        var display = window.getComputedStyle(gd).display;\n",
       "        if (!display || display === 'none') {{\n",
       "            console.log([gd, 'removed!']);\n",
       "            Plotly.purge(gd);\n",
       "            observer.disconnect();\n",
       "        }}\n",
       "}});\n",
       "\n",
       "// Listen for the removal of the full notebook cells\n",
       "var notebookContainer = gd.closest('#notebook-container');\n",
       "if (notebookContainer) {{\n",
       "    x.observe(notebookContainer, {childList: true});\n",
       "}}\n",
       "\n",
       "// Listen for the clearing of the current output cell\n",
       "var outputEl = gd.closest('.output');\n",
       "if (outputEl) {{\n",
       "    x.observe(outputEl, {childList: true});\n",
       "}}\n",
       "\n",
       "                        })                };                });            </script>        </div>"
      ]
     },
     "metadata": {},
     "output_type": "display_data"
    }
   ],
   "source": [
    "# Plot our path\n",
    "plot_path(lat, long, start_point, end_point)"
   ]
  },
  {
   "cell_type": "markdown",
   "id": "electrical-cardiff",
   "metadata": {},
   "source": [
    "### Itemizing the Route"
   ]
  },
  {
   "cell_type": "code",
   "execution_count": 191,
   "id": "violent-patrick",
   "metadata": {},
   "outputs": [
    {
     "name": "stdout",
     "output_type": "stream",
     "text": [
      "Vanier Street for 102.86 metres at speed 50 km/h.\n",
      "Dryden Boulevard for 1582.70 metres at speed 60 km/h.\n",
      "Anderson Street for 422.30 metres at speed 60 km/h.\n",
      "Darren Avenue for 967.81 metres at speed 50 km/h.\n",
      "Thickson Road for 290.27 metres at speed 80 km/h.\n",
      "Taunton Road East for 1562.18 metres at speed 80 km/h.\n",
      "Taunton Road West for 59.00 metres at speed 80 km/h.\n",
      "Thornton Road North for 9.86 metres at speed 80 km/h.\n",
      "Thornton Road North for 2010.65 metres at speed 60 km/h.\n",
      "Conlin Road West for 1334.51 metres at speed 60 km/h.\n",
      "Founders Drive for 689.77 metres at speed 50 km/h.\n"
     ]
    }
   ],
   "source": [
    "for ind in simplified_route.index:\n",
    "    print('{} for {:.2f} metres at speed {} km/h.'.format(simplified_route['Street Name'][ind], \n",
    "                                                      simplified_route['Length'][ind],\n",
    "                                                     simplified_route['Speed'][ind]))"
   ]
  },
  {
   "cell_type": "code",
   "execution_count": null,
   "id": "beginning-assembly",
   "metadata": {},
   "outputs": [],
   "source": []
  }
 ],
 "metadata": {
  "kernelspec": {
   "display_name": "Python [conda env:capstone2]",
   "language": "python",
   "name": "conda-env-capstone2-py"
  },
  "language_info": {
   "codemirror_mode": {
    "name": "ipython",
    "version": 3
   },
   "file_extension": ".py",
   "mimetype": "text/x-python",
   "name": "python",
   "nbconvert_exporter": "python",
   "pygments_lexer": "ipython3",
   "version": "3.8.6"
  }
 },
 "nbformat": 4,
 "nbformat_minor": 5
}
