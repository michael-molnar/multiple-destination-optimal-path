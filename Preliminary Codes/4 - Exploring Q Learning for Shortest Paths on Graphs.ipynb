{
 "cells": [
  {
   "cell_type": "markdown",
   "id": "sonic-catering",
   "metadata": {},
   "source": [
    "In this notebook we will explore using Q-Learning as a means of generating optimal paths on simple graphs."
   ]
  },
  {
   "cell_type": "code",
   "execution_count": 1,
   "id": "cloudy-fluid",
   "metadata": {},
   "outputs": [],
   "source": [
    "import matplotlib.pyplot as plt\n",
    "import networkx as nx\n",
    "import numpy as np\n",
    "import pandas as pd\n",
    "import random\n",
    "import time\n",
    "%matplotlib inline"
   ]
  },
  {
   "cell_type": "markdown",
   "id": "spatial-young",
   "metadata": {},
   "source": [
    "### Define a Simple Graph using NetworkX"
   ]
  },
  {
   "cell_type": "code",
   "execution_count": 2,
   "id": "provincial-genesis",
   "metadata": {},
   "outputs": [
    {
     "data": {
      "image/png": "[encoded data removed]",
      "text/plain": [
       "<Figure size 432x288 with 1 Axes>"
      ]
     },
     "metadata": {},
     "output_type": "display_data"
    }
   ],
   "source": [
    "# Define the edges of the graph\n",
    "edges = [(0,4), (4,0), (0,3), (3,0), (1,2), (2,1), (1,4), (4,1), (1,8), (8,1), (1,9), (9,1),\n",
    "         (2,3), (3,2), (2,6), (6,2), (1,5), (5,1), (2,5), (5,2), (5,6), (6,5), (7,8), (8,7), \n",
    "         (7,5), (5,7), (8,9), (9,8), (8,10), (10,8), (9,10), (10,9)]\n",
    "# Create the graph object \n",
    "G = nx.Graph()\n",
    "# Create nodes as edges as defined in the list \n",
    "G.add_edges_from(edges)\n",
    "pos = nx.spring_layout(G)\n",
    "# Draw the graph\n",
    "nx.draw_networkx_nodes(G, pos)\n",
    "nx.draw_networkx_edges(G, pos)\n",
    "nx.draw_networkx_labels(G, pos)\n",
    "plt.show()"
   ]
  },
  {
   "cell_type": "markdown",
   "id": "critical-coverage",
   "metadata": {},
   "source": [
    "We can access the graph nodes with G[node]."
   ]
  },
  {
   "cell_type": "code",
   "execution_count": 3,
   "id": "fifteen-nirvana",
   "metadata": {},
   "outputs": [
    {
     "data": {
      "text/plain": [
       "AtlasView({8: {}, 9: {}})"
      ]
     },
     "execution_count": 3,
     "metadata": {},
     "output_type": "execute_result"
    }
   ],
   "source": [
    "G[10]"
   ]
  },
  {
   "cell_type": "markdown",
   "id": "three-oxygen",
   "metadata": {},
   "source": [
    "We see here that nodes 8 and 9 are connected to node 10."
   ]
  },
  {
   "cell_type": "markdown",
   "id": "north-yemen",
   "metadata": {},
   "source": [
    "### Finding the Shortest Path from Node 0 to Node 10"
   ]
  },
  {
   "cell_type": "markdown",
   "id": "experimental-viking",
   "metadata": {},
   "source": [
    "To apply Q-Learning we must first define two matrices, R and Q.  The R matrix is the rewards matrix.  Since reaching node 10 is our goal, we will give a reward to the nodes which are attached to 10, and a reward of 0 otherwise."
   ]
  },
  {
   "cell_type": "markdown",
   "id": "chinese-reset",
   "metadata": {},
   "source": [
    "#### Define the R maxtrix"
   ]
  },
  {
   "cell_type": "code",
   "execution_count": 13,
   "id": "frozen-transcript",
   "metadata": {},
   "outputs": [],
   "source": [
    "# We have 11 nodes, so define an 11x11 matrx of 0s\n",
    "R = np.matrix(np.zeros(shape=(11,11)))\n",
    "# For each node that is connected to 10, give a reward of 100\n",
    "for x in G[10]:\n",
    "    R[x,10]=100"
   ]
  },
  {
   "cell_type": "markdown",
   "id": "exempt-perfume",
   "metadata": {},
   "source": [
    "Next, we define the Q matrix.  The learning algorithm will update these values by starting at different nodes and trying to reach the goal.  To start with, we initialize all possible actions (two nodes that are attached by an edge) to have a value of 0, and impossible actions we will set to -100."
   ]
  },
  {
   "cell_type": "markdown",
   "id": "posted-grant",
   "metadata": {},
   "source": [
    "#### Define the Q matrix"
   ]
  },
  {
   "cell_type": "code",
   "execution_count": 14,
   "id": "tamil-layer",
   "metadata": {},
   "outputs": [],
   "source": [
    "# Again start with an 11x11 matrix\n",
    "Q = np.matrix(np.zeros(shape=(11,11)))\n",
    "# Set each entry to be -100\n",
    "Q -= 100\n",
    "# For each node in the graph, G, find all connected nodes\n",
    "for node in G.nodes:\n",
    "    # For each of these, set the entries to 0\n",
    "    for x in G[node]:\n",
    "        Q[node,x] = 0\n",
    "        Q[x,node] = 0"
   ]
  },
  {
   "cell_type": "code",
   "execution_count": 15,
   "id": "adjustable-fishing",
   "metadata": {},
   "outputs": [
    {
     "data": {
      "text/html": [
       "<div>\n",
       "<style scoped>\n",
       "    .dataframe tbody tr th:only-of-type {\n",
       "        vertical-align: middle;\n",
       "    }\n",
       "\n",
       "    .dataframe tbody tr th {\n",
       "        vertical-align: top;\n",
       "    }\n",
       "\n",
       "    .dataframe thead th {\n",
       "        text-align: right;\n",
       "    }\n",
       "</style>\n",
       "<table border=\"1\" class=\"dataframe\">\n",
       "  <thead>\n",
       "    <tr style=\"text-align: right;\">\n",
       "      <th></th>\n",
       "      <th>0</th>\n",
       "      <th>1</th>\n",
       "      <th>2</th>\n",
       "      <th>3</th>\n",
       "      <th>4</th>\n",
       "      <th>5</th>\n",
       "      <th>6</th>\n",
       "      <th>7</th>\n",
       "      <th>8</th>\n",
       "      <th>9</th>\n",
       "      <th>10</th>\n",
       "    </tr>\n",
       "  </thead>\n",
       "  <tbody>\n",
       "    <tr>\n",
       "      <th>0</th>\n",
       "      <td>-100.0</td>\n",
       "      <td>-100.0</td>\n",
       "      <td>-100.0</td>\n",
       "      <td>0.0</td>\n",
       "      <td>0.0</td>\n",
       "      <td>-100.0</td>\n",
       "      <td>-100.0</td>\n",
       "      <td>-100.0</td>\n",
       "      <td>-100.0</td>\n",
       "      <td>-100.0</td>\n",
       "      <td>-100.0</td>\n",
       "    </tr>\n",
       "    <tr>\n",
       "      <th>1</th>\n",
       "      <td>-100.0</td>\n",
       "      <td>-100.0</td>\n",
       "      <td>0.0</td>\n",
       "      <td>-100.0</td>\n",
       "      <td>0.0</td>\n",
       "      <td>0.0</td>\n",
       "      <td>-100.0</td>\n",
       "      <td>-100.0</td>\n",
       "      <td>0.0</td>\n",
       "      <td>0.0</td>\n",
       "      <td>-100.0</td>\n",
       "    </tr>\n",
       "    <tr>\n",
       "      <th>2</th>\n",
       "      <td>-100.0</td>\n",
       "      <td>0.0</td>\n",
       "      <td>-100.0</td>\n",
       "      <td>0.0</td>\n",
       "      <td>-100.0</td>\n",
       "      <td>0.0</td>\n",
       "      <td>0.0</td>\n",
       "      <td>-100.0</td>\n",
       "      <td>-100.0</td>\n",
       "      <td>-100.0</td>\n",
       "      <td>-100.0</td>\n",
       "    </tr>\n",
       "    <tr>\n",
       "      <th>3</th>\n",
       "      <td>0.0</td>\n",
       "      <td>-100.0</td>\n",
       "      <td>0.0</td>\n",
       "      <td>-100.0</td>\n",
       "      <td>-100.0</td>\n",
       "      <td>-100.0</td>\n",
       "      <td>-100.0</td>\n",
       "      <td>-100.0</td>\n",
       "      <td>-100.0</td>\n",
       "      <td>-100.0</td>\n",
       "      <td>-100.0</td>\n",
       "    </tr>\n",
       "    <tr>\n",
       "      <th>4</th>\n",
       "      <td>0.0</td>\n",
       "      <td>0.0</td>\n",
       "      <td>-100.0</td>\n",
       "      <td>-100.0</td>\n",
       "      <td>-100.0</td>\n",
       "      <td>-100.0</td>\n",
       "      <td>-100.0</td>\n",
       "      <td>-100.0</td>\n",
       "      <td>-100.0</td>\n",
       "      <td>-100.0</td>\n",
       "      <td>-100.0</td>\n",
       "    </tr>\n",
       "    <tr>\n",
       "      <th>5</th>\n",
       "      <td>-100.0</td>\n",
       "      <td>0.0</td>\n",
       "      <td>0.0</td>\n",
       "      <td>-100.0</td>\n",
       "      <td>-100.0</td>\n",
       "      <td>-100.0</td>\n",
       "      <td>0.0</td>\n",
       "      <td>0.0</td>\n",
       "      <td>-100.0</td>\n",
       "      <td>-100.0</td>\n",
       "      <td>-100.0</td>\n",
       "    </tr>\n",
       "    <tr>\n",
       "      <th>6</th>\n",
       "      <td>-100.0</td>\n",
       "      <td>-100.0</td>\n",
       "      <td>0.0</td>\n",
       "      <td>-100.0</td>\n",
       "      <td>-100.0</td>\n",
       "      <td>0.0</td>\n",
       "      <td>-100.0</td>\n",
       "      <td>-100.0</td>\n",
       "      <td>-100.0</td>\n",
       "      <td>-100.0</td>\n",
       "      <td>-100.0</td>\n",
       "    </tr>\n",
       "    <tr>\n",
       "      <th>7</th>\n",
       "      <td>-100.0</td>\n",
       "      <td>-100.0</td>\n",
       "      <td>-100.0</td>\n",
       "      <td>-100.0</td>\n",
       "      <td>-100.0</td>\n",
       "      <td>0.0</td>\n",
       "      <td>-100.0</td>\n",
       "      <td>-100.0</td>\n",
       "      <td>0.0</td>\n",
       "      <td>-100.0</td>\n",
       "      <td>-100.0</td>\n",
       "    </tr>\n",
       "    <tr>\n",
       "      <th>8</th>\n",
       "      <td>-100.0</td>\n",
       "      <td>0.0</td>\n",
       "      <td>-100.0</td>\n",
       "      <td>-100.0</td>\n",
       "      <td>-100.0</td>\n",
       "      <td>-100.0</td>\n",
       "      <td>-100.0</td>\n",
       "      <td>0.0</td>\n",
       "      <td>-100.0</td>\n",
       "      <td>0.0</td>\n",
       "      <td>0.0</td>\n",
       "    </tr>\n",
       "    <tr>\n",
       "      <th>9</th>\n",
       "      <td>-100.0</td>\n",
       "      <td>0.0</td>\n",
       "      <td>-100.0</td>\n",
       "      <td>-100.0</td>\n",
       "      <td>-100.0</td>\n",
       "      <td>-100.0</td>\n",
       "      <td>-100.0</td>\n",
       "      <td>-100.0</td>\n",
       "      <td>0.0</td>\n",
       "      <td>-100.0</td>\n",
       "      <td>0.0</td>\n",
       "    </tr>\n",
       "    <tr>\n",
       "      <th>10</th>\n",
       "      <td>-100.0</td>\n",
       "      <td>-100.0</td>\n",
       "      <td>-100.0</td>\n",
       "      <td>-100.0</td>\n",
       "      <td>-100.0</td>\n",
       "      <td>-100.0</td>\n",
       "      <td>-100.0</td>\n",
       "      <td>-100.0</td>\n",
       "      <td>0.0</td>\n",
       "      <td>0.0</td>\n",
       "      <td>-100.0</td>\n",
       "    </tr>\n",
       "  </tbody>\n",
       "</table>\n",
       "</div>"
      ],
      "text/plain": [
       "       0      1      2      3      4      5      6      7      8      9   \\\n",
       "0  -100.0 -100.0 -100.0    0.0    0.0 -100.0 -100.0 -100.0 -100.0 -100.0   \n",
       "1  -100.0 -100.0    0.0 -100.0    0.0    0.0 -100.0 -100.0    0.0    0.0   \n",
       "2  -100.0    0.0 -100.0    0.0 -100.0    0.0    0.0 -100.0 -100.0 -100.0   \n",
       "3     0.0 -100.0    0.0 -100.0 -100.0 -100.0 -100.0 -100.0 -100.0 -100.0   \n",
       "4     0.0    0.0 -100.0 -100.0 -100.0 -100.0 -100.0 -100.0 -100.0 -100.0   \n",
       "5  -100.0    0.0    0.0 -100.0 -100.0 -100.0    0.0    0.0 -100.0 -100.0   \n",
       "6  -100.0 -100.0    0.0 -100.0 -100.0    0.0 -100.0 -100.0 -100.0 -100.0   \n",
       "7  -100.0 -100.0 -100.0 -100.0 -100.0    0.0 -100.0 -100.0    0.0 -100.0   \n",
       "8  -100.0    0.0 -100.0 -100.0 -100.0 -100.0 -100.0    0.0 -100.0    0.0   \n",
       "9  -100.0    0.0 -100.0 -100.0 -100.0 -100.0 -100.0 -100.0    0.0 -100.0   \n",
       "10 -100.0 -100.0 -100.0 -100.0 -100.0 -100.0 -100.0 -100.0    0.0    0.0   \n",
       "\n",
       "       10  \n",
       "0  -100.0  \n",
       "1  -100.0  \n",
       "2  -100.0  \n",
       "3  -100.0  \n",
       "4  -100.0  \n",
       "5  -100.0  \n",
       "6  -100.0  \n",
       "7  -100.0  \n",
       "8     0.0  \n",
       "9     0.0  \n",
       "10 -100.0  "
      ]
     },
     "execution_count": 15,
     "metadata": {},
     "output_type": "execute_result"
    }
   ],
   "source": [
    "# Displaying the starting Q matrix\n",
    "pd.DataFrame(Q)"
   ]
  },
  {
   "cell_type": "markdown",
   "id": "honey-skirt",
   "metadata": {},
   "source": [
    "### Q-Learning Terms:\n",
    "er - exploration rate (random)\n",
    "\n",
    "lr - learning rate (The learning rate or step size determines to what extent newly acquired information overrides old information. A factor of 0 makes the agent learn nothing (exclusively exploiting prior knowledge), while a factor of 1 makes the agent consider only the most recent information (ignoring prior knowledge to explore possibilities).\n",
    "\n",
    "discount factor - (determines the importance of future rewards. A factor of 0 will make the agent \"myopic\" (or short-sighted) by only considering current rewards, while a factor approaching 1 will make it strive for a long-term high reward)"
   ]
  },
  {
   "cell_type": "markdown",
   "id": "adequate-donor",
   "metadata": {},
   "source": [
    "#### Q-Learning Functions"
   ]
  },
  {
   "cell_type": "code",
   "execution_count": 16,
   "id": "loose-thomas",
   "metadata": {},
   "outputs": [],
   "source": [
    "def next_number(start, er):\n",
    "    \"\"\"\n",
    "    From a node, determine where to go next.\n",
    "    \"\"\"\n",
    "    # Choose a random number\n",
    "    random_value = random.uniform(0,1)\n",
    "    # If this is below the er threshold, the next action is chosen randomly\n",
    "    if random_value < er:\n",
    "        # The possible actions will be all attached nodes\n",
    "        sample = G[start]\n",
    "    \n",
    "    # Else, choose the possible action that has the highest Q value\n",
    "    # Note - this can return multiple - so choose one at random after\n",
    "    else:\n",
    "        sample = np.where(Q[start,] == np.max(Q[start,]))[1]\n",
    "    # Select one node from sample at random\n",
    "    next_node = int(np.random.choice(sample,size=1))\n",
    "    return next_node"
   ]
  },
  {
   "cell_type": "code",
   "execution_count": 17,
   "id": "private-queue",
   "metadata": {},
   "outputs": [],
   "source": [
    "def updateQ(node1, node2, lr, discount):\n",
    "    \"\"\"\n",
    "    After an action is chosen, update the Q matrix.\n",
    "    \"\"\"\n",
    "    # Find the index of the highest Q-value in the node 2 row\n",
    "    max_index = np.where(Q[node2,] == np.max(Q[node2,]))[1]\n",
    "    # If there are more than one, choose one at random\n",
    "    if max_index.shape[0] > 1:\n",
    "        max_index = int(np.random.choice(max_index, size=1))\n",
    "    else:\n",
    "        max_index = int(max_index)\n",
    "    \n",
    "    # Get this max Q-value in the node 2 row \n",
    "    max_value = Q[node2, max_index]\n",
    "    \n",
    "    # Update this Q-value\n",
    "    Q[node1, node2] = int((1-lr)*Q[node1,node2] + lr*(R[node1, node2] + discount*max_value))"
   ]
  },
  {
   "cell_type": "code",
   "execution_count": 18,
   "id": "seasonal-clothing",
   "metadata": {},
   "outputs": [],
   "source": [
    "def learn(er, lr, discount, episodes, nodes):\n",
    "    \"\"\"\n",
    "    For a user defined number of episodes, create paths and update the Q matrix.\n",
    "    \"\"\"\n",
    "    for i in range(episodes):\n",
    "        # Choose a random starting node \n",
    "        start = np.random.randint(0,nodes)\n",
    "        # Determine the next action\n",
    "        next_node = next_number(start, er)\n",
    "        # Update the Q matrix\n",
    "        updateQ(start, next_node, lr, discount)"
   ]
  },
  {
   "cell_type": "code",
   "execution_count": 19,
   "id": "modified-inspiration",
   "metadata": {},
   "outputs": [],
   "source": [
    "def shortest_path(begin, end):\n",
    "    \"\"\"\n",
    "    Determine the shortest path between two nodes.  At each step, we want to \n",
    "    select the attached node with the highest Q-value.\n",
    "    \"\"\"\n",
    "    # Create the path list\n",
    "    path=[begin]\n",
    "    # The next node is the possible action with the highest Q-value\n",
    "    next_node = np.argmax(Q[begin,])\n",
    "    # Add this to path\n",
    "    path.append(next_node)\n",
    "    # Continue in this way until you reach the end goal\n",
    "    while next_node != end:\n",
    "        next_node = np.argmax(Q[next_node,])\n",
    "        path.append(next_node)\n",
    "    return path"
   ]
  },
  {
   "cell_type": "markdown",
   "id": "tested-chapel",
   "metadata": {},
   "source": [
    "### Learning on our Graph, G"
   ]
  },
  {
   "cell_type": "code",
   "execution_count": 20,
   "id": "funky-aggregate",
   "metadata": {},
   "outputs": [
    {
     "name": "stdout",
     "output_type": "stream",
     "text": [
      "0.6383283138275146 seconds to learn.\n"
     ]
    }
   ],
   "source": [
    "# Try:\n",
    "# exploration rate = 0.5\n",
    "# learning rate = 0.5\n",
    "# discount = 0.8\n",
    "# episodes = 10,000\n",
    "\n",
    "# See how long the learning requires \n",
    "start = time.time()\n",
    "learn(0.5, 0.5, 0.8, 10000, 11)\n",
    "end = time.time()\n",
    "print('{} seconds to learn.'.format(end - start))"
   ]
  },
  {
   "cell_type": "code",
   "execution_count": 21,
   "id": "reflected-newton",
   "metadata": {},
   "outputs": [
    {
     "data": {
      "text/html": [
       "<div>\n",
       "<style scoped>\n",
       "    .dataframe tbody tr th:only-of-type {\n",
       "        vertical-align: middle;\n",
       "    }\n",
       "\n",
       "    .dataframe tbody tr th {\n",
       "        vertical-align: top;\n",
       "    }\n",
       "\n",
       "    .dataframe thead th {\n",
       "        text-align: right;\n",
       "    }\n",
       "</style>\n",
       "<table border=\"1\" class=\"dataframe\">\n",
       "  <thead>\n",
       "    <tr style=\"text-align: right;\">\n",
       "      <th></th>\n",
       "      <th>0</th>\n",
       "      <th>1</th>\n",
       "      <th>2</th>\n",
       "      <th>3</th>\n",
       "      <th>4</th>\n",
       "      <th>5</th>\n",
       "      <th>6</th>\n",
       "      <th>7</th>\n",
       "      <th>8</th>\n",
       "      <th>9</th>\n",
       "      <th>10</th>\n",
       "    </tr>\n",
       "  </thead>\n",
       "  <tbody>\n",
       "    <tr>\n",
       "      <th>0</th>\n",
       "      <td>-100.0</td>\n",
       "      <td>-100.0</td>\n",
       "      <td>-100.0</td>\n",
       "      <td>107.0</td>\n",
       "      <td>135.0</td>\n",
       "      <td>-100.0</td>\n",
       "      <td>-100.0</td>\n",
       "      <td>-100.0</td>\n",
       "      <td>-100.0</td>\n",
       "      <td>-100.0</td>\n",
       "      <td>-100.0</td>\n",
       "    </tr>\n",
       "    <tr>\n",
       "      <th>1</th>\n",
       "      <td>-100.0</td>\n",
       "      <td>-100.0</td>\n",
       "      <td>135.0</td>\n",
       "      <td>-100.0</td>\n",
       "      <td>135.0</td>\n",
       "      <td>135.0</td>\n",
       "      <td>-100.0</td>\n",
       "      <td>-100.0</td>\n",
       "      <td>215.0</td>\n",
       "      <td>215.0</td>\n",
       "      <td>-100.0</td>\n",
       "    </tr>\n",
       "    <tr>\n",
       "      <th>2</th>\n",
       "      <td>-100.0</td>\n",
       "      <td>171.0</td>\n",
       "      <td>-100.0</td>\n",
       "      <td>107.0</td>\n",
       "      <td>-100.0</td>\n",
       "      <td>135.0</td>\n",
       "      <td>107.0</td>\n",
       "      <td>-100.0</td>\n",
       "      <td>-100.0</td>\n",
       "      <td>-100.0</td>\n",
       "      <td>-100.0</td>\n",
       "    </tr>\n",
       "    <tr>\n",
       "      <th>3</th>\n",
       "      <td>107.0</td>\n",
       "      <td>-100.0</td>\n",
       "      <td>135.0</td>\n",
       "      <td>-100.0</td>\n",
       "      <td>-100.0</td>\n",
       "      <td>-100.0</td>\n",
       "      <td>-100.0</td>\n",
       "      <td>-100.0</td>\n",
       "      <td>-100.0</td>\n",
       "      <td>-100.0</td>\n",
       "      <td>-100.0</td>\n",
       "    </tr>\n",
       "    <tr>\n",
       "      <th>4</th>\n",
       "      <td>107.0</td>\n",
       "      <td>171.0</td>\n",
       "      <td>-100.0</td>\n",
       "      <td>-100.0</td>\n",
       "      <td>-100.0</td>\n",
       "      <td>-100.0</td>\n",
       "      <td>-100.0</td>\n",
       "      <td>-100.0</td>\n",
       "      <td>-100.0</td>\n",
       "      <td>-100.0</td>\n",
       "      <td>-100.0</td>\n",
       "    </tr>\n",
       "    <tr>\n",
       "      <th>5</th>\n",
       "      <td>-100.0</td>\n",
       "      <td>171.0</td>\n",
       "      <td>135.0</td>\n",
       "      <td>-100.0</td>\n",
       "      <td>-100.0</td>\n",
       "      <td>-100.0</td>\n",
       "      <td>107.0</td>\n",
       "      <td>171.0</td>\n",
       "      <td>-100.0</td>\n",
       "      <td>-100.0</td>\n",
       "      <td>-100.0</td>\n",
       "    </tr>\n",
       "    <tr>\n",
       "      <th>6</th>\n",
       "      <td>-100.0</td>\n",
       "      <td>-100.0</td>\n",
       "      <td>135.0</td>\n",
       "      <td>-100.0</td>\n",
       "      <td>-100.0</td>\n",
       "      <td>135.0</td>\n",
       "      <td>-100.0</td>\n",
       "      <td>-100.0</td>\n",
       "      <td>-100.0</td>\n",
       "      <td>-100.0</td>\n",
       "      <td>-100.0</td>\n",
       "    </tr>\n",
       "    <tr>\n",
       "      <th>7</th>\n",
       "      <td>-100.0</td>\n",
       "      <td>-100.0</td>\n",
       "      <td>-100.0</td>\n",
       "      <td>-100.0</td>\n",
       "      <td>-100.0</td>\n",
       "      <td>135.0</td>\n",
       "      <td>-100.0</td>\n",
       "      <td>-100.0</td>\n",
       "      <td>215.0</td>\n",
       "      <td>-100.0</td>\n",
       "      <td>-100.0</td>\n",
       "    </tr>\n",
       "    <tr>\n",
       "      <th>8</th>\n",
       "      <td>-100.0</td>\n",
       "      <td>171.0</td>\n",
       "      <td>-100.0</td>\n",
       "      <td>-100.0</td>\n",
       "      <td>-100.0</td>\n",
       "      <td>-100.0</td>\n",
       "      <td>-100.0</td>\n",
       "      <td>171.0</td>\n",
       "      <td>-100.0</td>\n",
       "      <td>215.0</td>\n",
       "      <td>271.0</td>\n",
       "    </tr>\n",
       "    <tr>\n",
       "      <th>9</th>\n",
       "      <td>-100.0</td>\n",
       "      <td>171.0</td>\n",
       "      <td>-100.0</td>\n",
       "      <td>-100.0</td>\n",
       "      <td>-100.0</td>\n",
       "      <td>-100.0</td>\n",
       "      <td>-100.0</td>\n",
       "      <td>-100.0</td>\n",
       "      <td>215.0</td>\n",
       "      <td>-100.0</td>\n",
       "      <td>271.0</td>\n",
       "    </tr>\n",
       "    <tr>\n",
       "      <th>10</th>\n",
       "      <td>-100.0</td>\n",
       "      <td>-100.0</td>\n",
       "      <td>-100.0</td>\n",
       "      <td>-100.0</td>\n",
       "      <td>-100.0</td>\n",
       "      <td>-100.0</td>\n",
       "      <td>-100.0</td>\n",
       "      <td>-100.0</td>\n",
       "      <td>215.0</td>\n",
       "      <td>215.0</td>\n",
       "      <td>-100.0</td>\n",
       "    </tr>\n",
       "  </tbody>\n",
       "</table>\n",
       "</div>"
      ],
      "text/plain": [
       "       0      1      2      3      4      5      6      7      8      9   \\\n",
       "0  -100.0 -100.0 -100.0  107.0  135.0 -100.0 -100.0 -100.0 -100.0 -100.0   \n",
       "1  -100.0 -100.0  135.0 -100.0  135.0  135.0 -100.0 -100.0  215.0  215.0   \n",
       "2  -100.0  171.0 -100.0  107.0 -100.0  135.0  107.0 -100.0 -100.0 -100.0   \n",
       "3   107.0 -100.0  135.0 -100.0 -100.0 -100.0 -100.0 -100.0 -100.0 -100.0   \n",
       "4   107.0  171.0 -100.0 -100.0 -100.0 -100.0 -100.0 -100.0 -100.0 -100.0   \n",
       "5  -100.0  171.0  135.0 -100.0 -100.0 -100.0  107.0  171.0 -100.0 -100.0   \n",
       "6  -100.0 -100.0  135.0 -100.0 -100.0  135.0 -100.0 -100.0 -100.0 -100.0   \n",
       "7  -100.0 -100.0 -100.0 -100.0 -100.0  135.0 -100.0 -100.0  215.0 -100.0   \n",
       "8  -100.0  171.0 -100.0 -100.0 -100.0 -100.0 -100.0  171.0 -100.0  215.0   \n",
       "9  -100.0  171.0 -100.0 -100.0 -100.0 -100.0 -100.0 -100.0  215.0 -100.0   \n",
       "10 -100.0 -100.0 -100.0 -100.0 -100.0 -100.0 -100.0 -100.0  215.0  215.0   \n",
       "\n",
       "       10  \n",
       "0  -100.0  \n",
       "1  -100.0  \n",
       "2  -100.0  \n",
       "3  -100.0  \n",
       "4  -100.0  \n",
       "5  -100.0  \n",
       "6  -100.0  \n",
       "7  -100.0  \n",
       "8   271.0  \n",
       "9   271.0  \n",
       "10 -100.0  "
      ]
     },
     "execution_count": 21,
     "metadata": {},
     "output_type": "execute_result"
    }
   ],
   "source": [
    "# Check the final Q matrix\n",
    "pd.DataFrame(Q)"
   ]
  },
  {
   "cell_type": "markdown",
   "id": "willing-promise",
   "metadata": {},
   "source": [
    "#### Determine the shortest path between 0 and 10"
   ]
  },
  {
   "cell_type": "code",
   "execution_count": 22,
   "id": "original-firewall",
   "metadata": {},
   "outputs": [
    {
     "data": {
      "text/plain": [
       "[0, 4, 1, 8, 10]"
      ]
     },
     "execution_count": 22,
     "metadata": {},
     "output_type": "execute_result"
    }
   ],
   "source": [
    "shortest_path(0,10)"
   ]
  },
  {
   "cell_type": "markdown",
   "id": "democratic-hacker",
   "metadata": {},
   "source": [
    "### Try on a Larger Randomly Generated Graph"
   ]
  },
  {
   "cell_type": "code",
   "execution_count": 24,
   "id": "whole-billion",
   "metadata": {},
   "outputs": [
    {
     "data": {
      "image/png": "[encoded data removed]",
      "text/plain": [
       "<Figure size 432x288 with 1 Axes>"
      ]
     },
     "metadata": {},
     "output_type": "display_data"
    }
   ],
   "source": [
    "# Use NetworkX to generate a random graph with 500 nodes and 2500 edges\n",
    "G = nx.gnm_random_graph(500,2500, seed=0)\n",
    "G.add_edges_from(edges)\n",
    "pos = nx.spring_layout(G)\n",
    "nx.draw_networkx_nodes(G, pos)\n",
    "nx.draw_networkx_edges(G, pos)\n",
    "nx.draw_networkx_labels(G, pos)\n",
    "plt.show()"
   ]
  },
  {
   "cell_type": "markdown",
   "id": "turned-utility",
   "metadata": {},
   "source": [
    "#### Determine the Shortest Path between Node 0 and Node 499"
   ]
  },
  {
   "cell_type": "code",
   "execution_count": 25,
   "id": "surface-vatican",
   "metadata": {},
   "outputs": [],
   "source": [
    "# Define R\n",
    "# Set = 100 if attached to 499 - else = 0\n",
    "R = np.matrix(np.zeros(shape=(500,500)))\n",
    "for x in G[499]:\n",
    "    R[x,499]=100"
   ]
  },
  {
   "cell_type": "code",
   "execution_count": 26,
   "id": "respiratory-irrigation",
   "metadata": {},
   "outputs": [],
   "source": [
    "# Define Q\n",
    "# Set =-100 if two nodes are not attached - else =0\n",
    "Q = np.matrix(np.zeros(shape=(500,500)))\n",
    "Q -= 100\n",
    "for node in G.nodes:\n",
    "    for x in G[node]:\n",
    "        Q[node,x] = 0\n",
    "        Q[x,node] = 0"
   ]
  },
  {
   "cell_type": "code",
   "execution_count": 27,
   "id": "digital-chosen",
   "metadata": {},
   "outputs": [
    {
     "name": "stdout",
     "output_type": "stream",
     "text": [
      "0.6712050437927246 seconds to train.\n"
     ]
    }
   ],
   "source": [
    "# Learn the Q Matrix\n",
    "# Try er = 0.5\n",
    "# lr = 0.5\n",
    "# discount = 0.8\n",
    "# episodes = 10,000\n",
    "start = time.time()\n",
    "learn(0.5, 0.5, 0.8, 10000, 500)\n",
    "end = time.time()\n",
    "print('{} seconds to train.'.format(end - start))"
   ]
  },
  {
   "cell_type": "code",
   "execution_count": 29,
   "id": "quality-madison",
   "metadata": {},
   "outputs": [
    {
     "data": {
      "text/plain": [
       "[0, 41, 243, 195, 499]"
      ]
     },
     "execution_count": 29,
     "metadata": {},
     "output_type": "execute_result"
    }
   ],
   "source": [
    "# Determine the shortest path\n",
    "shortest_path(0,499)"
   ]
  },
  {
   "cell_type": "code",
   "execution_count": null,
   "id": "thermal-generator",
   "metadata": {},
   "outputs": [],
   "source": []
  }
 ],
 "metadata": {
  "kernelspec": {
   "display_name": "Python 3",
   "language": "python",
   "name": "python3"
  },
  "language_info": {
   "codemirror_mode": {
    "name": "ipython",
    "version": 3
   },
   "file_extension": ".py",
   "mimetype": "text/x-python",
   "name": "python",
   "nbconvert_exporter": "python",
   "pygments_lexer": "ipython3",
   "version": "3.8.5"
  }
 },
 "nbformat": 4,
 "nbformat_minor": 5
}
